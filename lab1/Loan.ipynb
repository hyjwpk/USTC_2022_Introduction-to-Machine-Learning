{
 "cells": [
  {
   "cell_type": "markdown",
   "metadata": {},
   "source": [
    "## Load Dataset"
   ]
  },
  {
   "cell_type": "code",
   "execution_count": 2,
   "metadata": {},
   "outputs": [
    {
     "data": {
      "text/html": [
       "<div>\n",
       "<style scoped>\n",
       "    .dataframe tbody tr th:only-of-type {\n",
       "        vertical-align: middle;\n",
       "    }\n",
       "\n",
       "    .dataframe tbody tr th {\n",
       "        vertical-align: top;\n",
       "    }\n",
       "\n",
       "    .dataframe thead th {\n",
       "        text-align: right;\n",
       "    }\n",
       "</style>\n",
       "<table border=\"1\" class=\"dataframe\">\n",
       "  <thead>\n",
       "    <tr style=\"text-align: right;\">\n",
       "      <th></th>\n",
       "      <th>Loan_ID</th>\n",
       "      <th>Gender</th>\n",
       "      <th>Married</th>\n",
       "      <th>Dependents</th>\n",
       "      <th>Education</th>\n",
       "      <th>Self_Employed</th>\n",
       "      <th>ApplicantIncome</th>\n",
       "      <th>CoapplicantIncome</th>\n",
       "      <th>LoanAmount</th>\n",
       "      <th>Loan_Amount_Term</th>\n",
       "      <th>Credit_History</th>\n",
       "      <th>Property_Area</th>\n",
       "      <th>Loan_Status</th>\n",
       "    </tr>\n",
       "  </thead>\n",
       "  <tbody>\n",
       "    <tr>\n",
       "      <th>0</th>\n",
       "      <td>LP001002</td>\n",
       "      <td>Male</td>\n",
       "      <td>No</td>\n",
       "      <td>0</td>\n",
       "      <td>Graduate</td>\n",
       "      <td>No</td>\n",
       "      <td>5849</td>\n",
       "      <td>0.0</td>\n",
       "      <td>NaN</td>\n",
       "      <td>360.0</td>\n",
       "      <td>1.0</td>\n",
       "      <td>Urban</td>\n",
       "      <td>Y</td>\n",
       "    </tr>\n",
       "    <tr>\n",
       "      <th>1</th>\n",
       "      <td>LP001003</td>\n",
       "      <td>Male</td>\n",
       "      <td>Yes</td>\n",
       "      <td>1</td>\n",
       "      <td>Graduate</td>\n",
       "      <td>No</td>\n",
       "      <td>4583</td>\n",
       "      <td>1508.0</td>\n",
       "      <td>128.0</td>\n",
       "      <td>360.0</td>\n",
       "      <td>1.0</td>\n",
       "      <td>Rural</td>\n",
       "      <td>N</td>\n",
       "    </tr>\n",
       "    <tr>\n",
       "      <th>2</th>\n",
       "      <td>LP001005</td>\n",
       "      <td>Male</td>\n",
       "      <td>Yes</td>\n",
       "      <td>0</td>\n",
       "      <td>Graduate</td>\n",
       "      <td>Yes</td>\n",
       "      <td>3000</td>\n",
       "      <td>0.0</td>\n",
       "      <td>66.0</td>\n",
       "      <td>360.0</td>\n",
       "      <td>1.0</td>\n",
       "      <td>Urban</td>\n",
       "      <td>Y</td>\n",
       "    </tr>\n",
       "    <tr>\n",
       "      <th>3</th>\n",
       "      <td>LP001006</td>\n",
       "      <td>Male</td>\n",
       "      <td>Yes</td>\n",
       "      <td>0</td>\n",
       "      <td>Not Graduate</td>\n",
       "      <td>No</td>\n",
       "      <td>2583</td>\n",
       "      <td>2358.0</td>\n",
       "      <td>120.0</td>\n",
       "      <td>360.0</td>\n",
       "      <td>1.0</td>\n",
       "      <td>Urban</td>\n",
       "      <td>Y</td>\n",
       "    </tr>\n",
       "    <tr>\n",
       "      <th>4</th>\n",
       "      <td>LP001008</td>\n",
       "      <td>Male</td>\n",
       "      <td>No</td>\n",
       "      <td>0</td>\n",
       "      <td>Graduate</td>\n",
       "      <td>No</td>\n",
       "      <td>6000</td>\n",
       "      <td>0.0</td>\n",
       "      <td>141.0</td>\n",
       "      <td>360.0</td>\n",
       "      <td>1.0</td>\n",
       "      <td>Urban</td>\n",
       "      <td>Y</td>\n",
       "    </tr>\n",
       "  </tbody>\n",
       "</table>\n",
       "</div>"
      ],
      "text/plain": [
       "    Loan_ID Gender Married Dependents     Education Self_Employed  \\\n",
       "0  LP001002   Male      No          0      Graduate            No   \n",
       "1  LP001003   Male     Yes          1      Graduate            No   \n",
       "2  LP001005   Male     Yes          0      Graduate           Yes   \n",
       "3  LP001006   Male     Yes          0  Not Graduate            No   \n",
       "4  LP001008   Male      No          0      Graduate            No   \n",
       "\n",
       "   ApplicantIncome  CoapplicantIncome  LoanAmount  Loan_Amount_Term  \\\n",
       "0             5849                0.0         NaN             360.0   \n",
       "1             4583             1508.0       128.0             360.0   \n",
       "2             3000                0.0        66.0             360.0   \n",
       "3             2583             2358.0       120.0             360.0   \n",
       "4             6000                0.0       141.0             360.0   \n",
       "\n",
       "   Credit_History Property_Area Loan_Status  \n",
       "0             1.0         Urban           Y  \n",
       "1             1.0         Rural           N  \n",
       "2             1.0         Urban           Y  \n",
       "3             1.0         Urban           Y  \n",
       "4             1.0         Urban           Y  "
      ]
     },
     "execution_count": 2,
     "metadata": {},
     "output_type": "execute_result"
    }
   ],
   "source": [
    "import pandas as pd\n",
    "import numpy as np\n",
    "df = pd.read_csv('loan.csv')\n",
    "df.head()"
   ]
  },
  {
   "cell_type": "markdown",
   "metadata": {},
   "source": [
    "## Dataset Info"
   ]
  },
  {
   "cell_type": "code",
   "execution_count": 3,
   "metadata": {},
   "outputs": [
    {
     "name": "stdout",
     "output_type": "stream",
     "text": [
      "<class 'pandas.core.frame.DataFrame'>\n",
      "RangeIndex: 614 entries, 0 to 613\n",
      "Data columns (total 13 columns):\n",
      " #   Column             Non-Null Count  Dtype  \n",
      "---  ------             --------------  -----  \n",
      " 0   Loan_ID            614 non-null    object \n",
      " 1   Gender             601 non-null    object \n",
      " 2   Married            611 non-null    object \n",
      " 3   Dependents         599 non-null    object \n",
      " 4   Education          614 non-null    object \n",
      " 5   Self_Employed      582 non-null    object \n",
      " 6   ApplicantIncome    614 non-null    int64  \n",
      " 7   CoapplicantIncome  614 non-null    float64\n",
      " 8   LoanAmount         592 non-null    float64\n",
      " 9   Loan_Amount_Term   600 non-null    float64\n",
      " 10  Credit_History     564 non-null    float64\n",
      " 11  Property_Area      614 non-null    object \n",
      " 12  Loan_Status        614 non-null    object \n",
      "dtypes: float64(4), int64(1), object(8)\n",
      "memory usage: 62.5+ KB\n"
     ]
    }
   ],
   "source": [
    "df.info()"
   ]
  },
  {
   "cell_type": "markdown",
   "metadata": {},
   "source": [
    "## Data Cleaning"
   ]
  },
  {
   "cell_type": "code",
   "execution_count": 3,
   "metadata": {},
   "outputs": [
    {
     "data": {
      "text/plain": [
       "Gender               0\n",
       "Married              0\n",
       "Dependents           0\n",
       "Education            0\n",
       "Self_Employed        0\n",
       "ApplicantIncome      0\n",
       "CoapplicantIncome    0\n",
       "LoanAmount           0\n",
       "Loan_Amount_Term     0\n",
       "Credit_History       0\n",
       "Property_Area        0\n",
       "Loan_Status          0\n",
       "dtype: int64"
      ]
     },
     "execution_count": 3,
     "metadata": {},
     "output_type": "execute_result"
    }
   ],
   "source": [
    "# Task1 deal with NULL rows, you can either choose to drop them or replace them with mean or other value\n",
    "\n",
    "df.drop(\"Loan_ID\", axis=1, inplace=True)\n",
    "np.random.seed(38084)\n",
    "for i in range(df.shape[1]):\n",
    "    empty = df.iloc[:, i].isnull()\n",
    "    df.iloc[empty.values, i] = np.random.choice(\n",
    "        df.iloc[~empty.values, i].values, len(df.iloc[empty.values, i]))\n",
    "\n",
    "# # Checking the Missing Values\n",
    "df.isnull().sum()"
   ]
  },
  {
   "cell_type": "markdown",
   "metadata": {},
   "source": [
    "## Encode "
   ]
  },
  {
   "cell_type": "code",
   "execution_count": 4,
   "metadata": {},
   "outputs": [
    {
     "data": {
      "text/html": [
       "<div>\n",
       "<style scoped>\n",
       "    .dataframe tbody tr th:only-of-type {\n",
       "        vertical-align: middle;\n",
       "    }\n",
       "\n",
       "    .dataframe tbody tr th {\n",
       "        vertical-align: top;\n",
       "    }\n",
       "\n",
       "    .dataframe thead th {\n",
       "        text-align: right;\n",
       "    }\n",
       "</style>\n",
       "<table border=\"1\" class=\"dataframe\">\n",
       "  <thead>\n",
       "    <tr style=\"text-align: right;\">\n",
       "      <th></th>\n",
       "      <th>Gender</th>\n",
       "      <th>Married</th>\n",
       "      <th>Dependents</th>\n",
       "      <th>Education</th>\n",
       "      <th>Self_Employed</th>\n",
       "      <th>ApplicantIncome</th>\n",
       "      <th>CoapplicantIncome</th>\n",
       "      <th>LoanAmount</th>\n",
       "      <th>Loan_Amount_Term</th>\n",
       "      <th>Credit_History</th>\n",
       "      <th>Property_Area</th>\n",
       "      <th>Loan_Status</th>\n",
       "    </tr>\n",
       "  </thead>\n",
       "  <tbody>\n",
       "    <tr>\n",
       "      <th>0</th>\n",
       "      <td>1</td>\n",
       "      <td>0</td>\n",
       "      <td>0.0</td>\n",
       "      <td>1</td>\n",
       "      <td>0</td>\n",
       "      <td>5849.0</td>\n",
       "      <td>0.0</td>\n",
       "      <td>96.0</td>\n",
       "      <td>360.0</td>\n",
       "      <td>1.0</td>\n",
       "      <td>1.0</td>\n",
       "      <td>1</td>\n",
       "    </tr>\n",
       "    <tr>\n",
       "      <th>1</th>\n",
       "      <td>1</td>\n",
       "      <td>1</td>\n",
       "      <td>1.0</td>\n",
       "      <td>1</td>\n",
       "      <td>0</td>\n",
       "      <td>4583.0</td>\n",
       "      <td>1508.0</td>\n",
       "      <td>128.0</td>\n",
       "      <td>360.0</td>\n",
       "      <td>1.0</td>\n",
       "      <td>0.0</td>\n",
       "      <td>0</td>\n",
       "    </tr>\n",
       "    <tr>\n",
       "      <th>2</th>\n",
       "      <td>1</td>\n",
       "      <td>1</td>\n",
       "      <td>0.0</td>\n",
       "      <td>1</td>\n",
       "      <td>1</td>\n",
       "      <td>3000.0</td>\n",
       "      <td>0.0</td>\n",
       "      <td>66.0</td>\n",
       "      <td>360.0</td>\n",
       "      <td>1.0</td>\n",
       "      <td>1.0</td>\n",
       "      <td>1</td>\n",
       "    </tr>\n",
       "    <tr>\n",
       "      <th>3</th>\n",
       "      <td>1</td>\n",
       "      <td>1</td>\n",
       "      <td>0.0</td>\n",
       "      <td>0</td>\n",
       "      <td>0</td>\n",
       "      <td>2583.0</td>\n",
       "      <td>2358.0</td>\n",
       "      <td>120.0</td>\n",
       "      <td>360.0</td>\n",
       "      <td>1.0</td>\n",
       "      <td>1.0</td>\n",
       "      <td>1</td>\n",
       "    </tr>\n",
       "    <tr>\n",
       "      <th>4</th>\n",
       "      <td>1</td>\n",
       "      <td>0</td>\n",
       "      <td>0.0</td>\n",
       "      <td>1</td>\n",
       "      <td>0</td>\n",
       "      <td>6000.0</td>\n",
       "      <td>0.0</td>\n",
       "      <td>141.0</td>\n",
       "      <td>360.0</td>\n",
       "      <td>1.0</td>\n",
       "      <td>1.0</td>\n",
       "      <td>1</td>\n",
       "    </tr>\n",
       "  </tbody>\n",
       "</table>\n",
       "</div>"
      ],
      "text/plain": [
       "   Gender  Married  Dependents  Education  Self_Employed  ApplicantIncome  \\\n",
       "0       1        0         0.0          1              0           5849.0   \n",
       "1       1        1         1.0          1              0           4583.0   \n",
       "2       1        1         0.0          1              1           3000.0   \n",
       "3       1        1         0.0          0              0           2583.0   \n",
       "4       1        0         0.0          1              0           6000.0   \n",
       "\n",
       "   CoapplicantIncome  LoanAmount  Loan_Amount_Term  Credit_History  \\\n",
       "0                0.0        96.0             360.0             1.0   \n",
       "1             1508.0       128.0             360.0             1.0   \n",
       "2                0.0        66.0             360.0             1.0   \n",
       "3             2358.0       120.0             360.0             1.0   \n",
       "4                0.0       141.0             360.0             1.0   \n",
       "\n",
       "   Property_Area  Loan_Status  \n",
       "0            1.0            1  \n",
       "1            0.0            0  \n",
       "2            1.0            1  \n",
       "3            1.0            1  \n",
       "4            1.0            1  "
      ]
     },
     "execution_count": 4,
     "metadata": {},
     "output_type": "execute_result"
    }
   ],
   "source": [
    "# Task2 deal with categorical features\n",
    "# Tip df.Gender=df.Gender.map({'Male':1,'Female':0})\n",
    "df.Gender = df.Gender.map({'Male': 1, 'Female': 0})\n",
    "df.Married = df.Married.map({'Yes': 1, 'No': 0})\n",
    "df.Education = df.Education.map({'Graduate': 1, 'Not Graduate': 0})\n",
    "df.Self_Employed = df.Self_Employed.map({'Yes': 1, 'No': 0})\n",
    "df.Property_Area = df.Property_Area.map(\n",
    "    {'Urban': 1.0, 'Semiurban': 0.5, 'Rural': 0.0})\n",
    "df.Loan_Status = df.Loan_Status.map({'Y': 1, 'N': 0})\n",
    "df.Dependents = df.Dependents.map({'0': 0.0, '1': 1.0, '2': 2.0, '3+': 3.0})\n",
    "df.ApplicantIncome = df.ApplicantIncome.astype(\"float64\")\n",
    "df.head()"
   ]
  },
  {
   "cell_type": "markdown",
   "metadata": {},
   "source": [
    "## Data process"
   ]
  },
  {
   "cell_type": "code",
   "execution_count": 5,
   "metadata": {},
   "outputs": [],
   "source": [
    "# Task3 split the dataset into X_train, X_test, y_train, y_test\n",
    "# Optional: you can also use normalization\n",
    "df = df.apply(lambda x: (x-np.min(x))/(np.max(x)-np.min(x)))\n",
    "array = np.array(df)\n",
    "n = array.shape[0]\n",
    "train_index = set(np.random.choice(n, int(n/4*3), replace=False))\n",
    "test_index = set(range(n)) - train_index\n",
    "(train, test) = (array[np.array(list(train_index)), :],\n",
    "                 array[np.array(list(test_index)), :])\n",
    "(X_train, y_train) = (train[:, :-1], train[:, -1:])\n",
    "(X_test, y_test) = (test[:, :-1], test[:, -1:])\n",
    "X_train = np.append(X_train, np.ones((X_train.shape[0], 1)), axis=1)\n",
    "X_test = np.append(X_test, np.ones((X_test.shape[0], 1)), axis=1)"
   ]
  },
  {
   "cell_type": "markdown",
   "metadata": {},
   "source": [
    "## Train"
   ]
  },
  {
   "cell_type": "code",
   "execution_count": 6,
   "metadata": {},
   "outputs": [
    {
     "name": "stdout",
     "output_type": "stream",
     "text": [
      "牛顿法\n"
     ]
    },
    {
     "data": {
      "image/png": "[encoded data removed]",
      "text/plain": [
       "<Figure size 640x480 with 1 Axes>"
      ]
     },
     "metadata": {},
     "output_type": "display_data"
    },
    {
     "name": "stdout",
     "output_type": "stream",
     "text": [
      "accuracy:0.9155844155844156\n",
      "\n",
      "梯度下降法\n"
     ]
    },
    {
     "data": {
      "image/png": "[encoded data removed]",
      "text/plain": [
       "<Figure size 640x480 with 1 Axes>"
      ]
     },
     "metadata": {},
     "output_type": "display_data"
    },
    {
     "name": "stdout",
     "output_type": "stream",
     "text": [
      "accuracy:0.9155844155844156\n",
      "\n"
     ]
    }
   ],
   "source": [
    "from Logistic import LogisticRegression\n",
    "import matplotlib.pyplot as plt\n",
    "# Task4 train your model and plot the loss curve of training\n",
    "print('牛顿法')\n",
    "model = LogisticRegression(gamma=0)\n",
    "model.fit(X_train, y_train,pattern='newton')\n",
    "result = model.predict(X_test)\n",
    "delta = result-y_test\n",
    "num = 0\n",
    "for i in range(delta.shape[0]):\n",
    "    if delta[i] != 0:\n",
    "        num += 1\n",
    "print('accuracy:{}\\n'.format(1-num/delta.shape[0]))\n",
    "\n",
    "print('梯度下降法')\n",
    "model = LogisticRegression(gamma=0)\n",
    "model.fit(X_train, y_train,pattern='gd')\n",
    "result = model.predict(X_test)\n",
    "delta = result-y_test\n",
    "num = 0\n",
    "for i in range(delta.shape[0]):\n",
    "    if delta[i] != 0:\n",
    "        num += 1\n",
    "print('accuracy:{}\\n'.format(1-num/delta.shape[0]))\n"
   ]
  },
  {
   "cell_type": "markdown",
   "metadata": {},
   "source": [
    "## Test"
   ]
  },
  {
   "cell_type": "code",
   "execution_count": 7,
   "metadata": {},
   "outputs": [],
   "source": [
    "# Task5 compare the accuracy(or other metrics you want) of test data with different parameters you train with"
   ]
  },
  {
   "cell_type": "code",
   "execution_count": 9,
   "metadata": {},
   "outputs": [
    {
     "name": "stdout",
     "output_type": "stream",
     "text": [
      "0.8153594771241834\n"
     ]
    }
   ],
   "source": [
    "# 梯度下降法(步长0.005)\n",
    "from Logistic import LogisticRegression\n",
    "np.random.seed(37)\n",
    "df = df.apply(lambda x: (x-np.min(x))/(np.max(x)-np.min(x)))\n",
    "positive = np.array(df.iloc[(df.iloc[:, 11] == 1.0).values, :])\n",
    "negative = np.array(df.iloc[(~(df.iloc[:, 11] == 1.0)).values, :])\n",
    "np.random.shuffle(positive)\n",
    "np.random.shuffle(negative)\n",
    "pn = positive.shape[0]\n",
    "nn = negative.shape[0]\n",
    "acc = []\n",
    "model = LogisticRegression(gamma=0, plot=False)\n",
    "for i in range(10):\n",
    "    for i in range(4):\n",
    "        test_index_p = set(range(i*int(pn/4), (i+1)*int(pn/4)))\n",
    "        train_index_p = set(range(pn)) - test_index_p\n",
    "        (train_p, test_p) = (positive[np.array(list(train_index_p)), :],\n",
    "                             positive[np.array(list(test_index_p)), :])\n",
    "        test_index_n = set(range(i*int(nn/4), (i+1)*int(nn/4)))\n",
    "        train_index_n = set(range(nn)) - test_index_n\n",
    "        (train_n, test_n) = (negative[np.array(list(train_index_n)), :],\n",
    "                             negative[np.array(list(test_index_n)), :])\n",
    "        (train, test) = (np.r_[train_p, train_n], np.r_[test_p, test_n])\n",
    "        (X_train, y_train) = (train[:, :-1], train[:, -1:])\n",
    "        (X_test, y_test) = (test[:, :-1], test[:, -1:])\n",
    "        X_train = np.append(X_train, np.ones((X_train.shape[0], 1)), axis=1)\n",
    "        X_test = np.append(X_test, np.ones((X_test.shape[0], 1)), axis=1)\n",
    "        model.fit(X_train, y_train, lr=0.005)\n",
    "        result = model.predict(X_test)\n",
    "        delta = result-y_test\n",
    "        num = 0\n",
    "        for i in range(delta.shape[0]):\n",
    "            if delta[i] == 0:\n",
    "                num += 1\n",
    "        acc.append(num / delta.shape[0])\n",
    "print(sum(acc)/len(acc))\n"
   ]
  },
  {
   "cell_type": "code",
   "execution_count": 9,
   "metadata": {},
   "outputs": [
    {
     "name": "stdout",
     "output_type": "stream",
     "text": [
      "0.8153594771241834\n"
     ]
    }
   ],
   "source": [
    "# 梯度下降法(步长0.001)\n",
    "from Logistic import LogisticRegression\n",
    "np.random.seed(37)\n",
    "df = df.apply(lambda x: (x-np.min(x))/(np.max(x)-np.min(x)))\n",
    "positive = np.array(df.iloc[(df.iloc[:, 11] == 1.0).values, :])\n",
    "negative = np.array(df.iloc[(~(df.iloc[:, 11] == 1.0)).values, :])\n",
    "np.random.shuffle(positive)\n",
    "np.random.shuffle(negative)\n",
    "pn = positive.shape[0]\n",
    "nn = negative.shape[0]\n",
    "acc = []\n",
    "model = LogisticRegression(gamma=0, plot=False)\n",
    "for i in range(10):\n",
    "    for i in range(4):\n",
    "        test_index_p = set(range(i*int(pn/4), (i+1)*int(pn/4)))\n",
    "        train_index_p = set(range(pn)) - test_index_p\n",
    "        (train_p, test_p) = (positive[np.array(list(train_index_p)), :],\n",
    "                             positive[np.array(list(test_index_p)), :])\n",
    "        test_index_n = set(range(i*int(nn/4), (i+1)*int(nn/4)))\n",
    "        train_index_n = set(range(nn)) - test_index_n\n",
    "        (train_n, test_n) = (negative[np.array(list(train_index_n)), :],\n",
    "                             negative[np.array(list(test_index_n)), :])\n",
    "        (train, test) = (np.r_[train_p, train_n], np.r_[test_p, test_n])\n",
    "        (X_train, y_train) = (train[:, :-1], train[:, -1:])\n",
    "        (X_test, y_test) = (test[:, :-1], test[:, -1:])\n",
    "        X_train = np.append(X_train, np.ones((X_train.shape[0], 1)), axis=1)\n",
    "        X_test = np.append(X_test, np.ones((X_test.shape[0], 1)), axis=1)\n",
    "        model.fit(X_train, y_train, lr=0.001)\n",
    "        result = model.predict(X_test)\n",
    "        delta = result-y_test\n",
    "        num = 0\n",
    "        for i in range(delta.shape[0]):\n",
    "            if delta[i] == 0:\n",
    "                num += 1\n",
    "        acc.append(num / delta.shape[0])\n",
    "print(sum(acc)/len(acc))\n"
   ]
  },
  {
   "cell_type": "code",
   "execution_count": 10,
   "metadata": {},
   "outputs": [
    {
     "name": "stdout",
     "output_type": "stream",
     "text": [
      "0.8120915032679743\n"
     ]
    }
   ],
   "source": [
    "# 梯度下降法(步长0.005,l1正则化(参数2))\n",
    "from Logistic import LogisticRegression\n",
    "np.random.seed(37)\n",
    "df = df.apply(lambda x: (x-np.min(x))/(np.max(x)-np.min(x)))\n",
    "positive = np.array(df.iloc[(df.iloc[:, 11] == 1.0).values, :])\n",
    "negative = np.array(df.iloc[(~(df.iloc[:, 11] == 1.0)).values, :])\n",
    "np.random.shuffle(positive)\n",
    "np.random.shuffle(negative)\n",
    "pn = positive.shape[0]\n",
    "nn = negative.shape[0]\n",
    "acc = []\n",
    "model = LogisticRegression(penalty='l1',gamma=2,plot=False)\n",
    "for i in range(10):\n",
    "    for i in range(4):\n",
    "        test_index_p = set(range(i*int(pn/4), (i+1)*int(pn/4)))\n",
    "        train_index_p = set(range(pn)) - test_index_p\n",
    "        (train_p, test_p) = (positive[np.array(list(train_index_p)), :],\n",
    "                             positive[np.array(list(test_index_p)), :])\n",
    "        test_index_n = set(range(i*int(nn/4), (i+1)*int(nn/4)))\n",
    "        train_index_n = set(range(nn)) - test_index_n\n",
    "        (train_n, test_n) = (negative[np.array(list(train_index_n)), :],\n",
    "                             negative[np.array(list(test_index_n)), :])\n",
    "        (train, test) = (np.r_[train_p, train_n], np.r_[test_p, test_n])\n",
    "        (X_train, y_train) = (train[:, :-1], train[:, -1:])\n",
    "        (X_test, y_test) = (test[:, :-1], test[:, -1:])\n",
    "        X_train = np.append(X_train, np.ones((X_train.shape[0], 1)), axis=1)\n",
    "        X_test = np.append(X_test, np.ones((X_test.shape[0], 1)), axis=1)\n",
    "        model.fit(X_train, y_train, lr=0.005)\n",
    "        result = model.predict(X_test)\n",
    "        delta = result-y_test\n",
    "        num = 0\n",
    "        for i in range(delta.shape[0]):\n",
    "            if delta[i] == 0:\n",
    "                num += 1\n",
    "        acc.append(num / delta.shape[0])\n",
    "print(sum(acc)/len(acc))"
   ]
  },
  {
   "cell_type": "code",
   "execution_count": 11,
   "metadata": {},
   "outputs": [
    {
     "name": "stdout",
     "output_type": "stream",
     "text": [
      "0.8153594771241834\n"
     ]
    }
   ],
   "source": [
    "# 梯度下降法(步长0.005,l1正则化(参数1))\n",
    "from Logistic import LogisticRegression\n",
    "np.random.seed(37)\n",
    "df = df.apply(lambda x: (x-np.min(x))/(np.max(x)-np.min(x)))\n",
    "positive = np.array(df.iloc[(df.iloc[:, 11] == 1.0).values, :])\n",
    "negative = np.array(df.iloc[(~(df.iloc[:, 11] == 1.0)).values, :])\n",
    "np.random.shuffle(positive)\n",
    "np.random.shuffle(negative)\n",
    "pn = positive.shape[0]\n",
    "nn = negative.shape[0]\n",
    "acc = []\n",
    "model = LogisticRegression(penalty='l1', plot=False)\n",
    "for i in range(10):\n",
    "    for i in range(4):\n",
    "        test_index_p = set(range(i*int(pn/4), (i+1)*int(pn/4)))\n",
    "        train_index_p = set(range(pn)) - test_index_p\n",
    "        (train_p, test_p) = (positive[np.array(list(train_index_p)), :],\n",
    "                             positive[np.array(list(test_index_p)), :])\n",
    "        test_index_n = set(range(i*int(nn/4), (i+1)*int(nn/4)))\n",
    "        train_index_n = set(range(nn)) - test_index_n\n",
    "        (train_n, test_n) = (negative[np.array(list(train_index_n)), :],\n",
    "                             negative[np.array(list(test_index_n)), :])\n",
    "        (train, test) = (np.r_[train_p, train_n], np.r_[test_p, test_n])\n",
    "        (X_train, y_train) = (train[:, :-1], train[:, -1:])\n",
    "        (X_test, y_test) = (test[:, :-1], test[:, -1:])\n",
    "        X_train = np.append(X_train, np.ones((X_train.shape[0], 1)), axis=1)\n",
    "        X_test = np.append(X_test, np.ones((X_test.shape[0], 1)), axis=1)\n",
    "        model.fit(X_train, y_train, lr=0.005)\n",
    "        result = model.predict(X_test)\n",
    "        delta = result-y_test\n",
    "        num = 0\n",
    "        for i in range(delta.shape[0]):\n",
    "            if delta[i] == 0:\n",
    "                num += 1\n",
    "        acc.append(num / delta.shape[0])\n",
    "print(sum(acc)/len(acc))"
   ]
  },
  {
   "cell_type": "code",
   "execution_count": 12,
   "metadata": {},
   "outputs": [
    {
     "name": "stdout",
     "output_type": "stream",
     "text": [
      "0.8153594771241834\n"
     ]
    }
   ],
   "source": [
    "# 梯度下降法(步长0.005,l1正则化(参数0.5))\n",
    "from Logistic import LogisticRegression\n",
    "np.random.seed(37)\n",
    "df = df.apply(lambda x: (x-np.min(x))/(np.max(x)-np.min(x)))\n",
    "positive = np.array(df.iloc[(df.iloc[:, 11] == 1.0).values, :])\n",
    "negative = np.array(df.iloc[(~(df.iloc[:, 11] == 1.0)).values, :])\n",
    "np.random.shuffle(positive)\n",
    "np.random.shuffle(negative)\n",
    "pn = positive.shape[0]\n",
    "nn = negative.shape[0]\n",
    "acc = []\n",
    "model = LogisticRegression(penalty='l1',gamma=0.5,plot=False)\n",
    "for i in range(10):\n",
    "    for i in range(4):\n",
    "        test_index_p = set(range(i*int(pn/4), (i+1)*int(pn/4)))\n",
    "        train_index_p = set(range(pn)) - test_index_p\n",
    "        (train_p, test_p) = (positive[np.array(list(train_index_p)), :],\n",
    "                             positive[np.array(list(test_index_p)), :])\n",
    "        test_index_n = set(range(i*int(nn/4), (i+1)*int(nn/4)))\n",
    "        train_index_n = set(range(nn)) - test_index_n\n",
    "        (train_n, test_n) = (negative[np.array(list(train_index_n)), :],\n",
    "                             negative[np.array(list(test_index_n)), :])\n",
    "        (train, test) = (np.r_[train_p, train_n], np.r_[test_p, test_n])\n",
    "        (X_train, y_train) = (train[:, :-1], train[:, -1:])\n",
    "        (X_test, y_test) = (test[:, :-1], test[:, -1:])\n",
    "        X_train = np.append(X_train, np.ones((X_train.shape[0], 1)), axis=1)\n",
    "        X_test = np.append(X_test, np.ones((X_test.shape[0], 1)), axis=1)\n",
    "        model.fit(X_train, y_train, lr=0.005)\n",
    "        result = model.predict(X_test)\n",
    "        delta = result-y_test\n",
    "        num = 0\n",
    "        for i in range(delta.shape[0]):\n",
    "            if delta[i] == 0:\n",
    "                num += 1\n",
    "        acc.append(num / delta.shape[0])\n",
    "print(sum(acc)/len(acc))"
   ]
  },
  {
   "cell_type": "code",
   "execution_count": 13,
   "metadata": {},
   "outputs": [
    {
     "name": "stdout",
     "output_type": "stream",
     "text": [
      "0.8137254901960789\n"
     ]
    }
   ],
   "source": [
    "# 梯度下降法(步长0.005,l2正则化(参数2))\n",
    "from Logistic import LogisticRegression\n",
    "np.random.seed(37)\n",
    "df = df.apply(lambda x: (x-np.min(x))/(np.max(x)-np.min(x)))\n",
    "positive = np.array(df.iloc[(df.iloc[:, 11] == 1.0).values, :])\n",
    "negative = np.array(df.iloc[(~(df.iloc[:, 11] == 1.0)).values, :])\n",
    "np.random.shuffle(positive)\n",
    "np.random.shuffle(negative)\n",
    "pn = positive.shape[0]\n",
    "nn = negative.shape[0]\n",
    "acc = []\n",
    "model = LogisticRegression(penalty='l2',gamma=2, plot=False)\n",
    "for i in range(10):\n",
    "    for i in range(4):\n",
    "        test_index_p = set(range(i*int(pn/4), (i+1)*int(pn/4)))\n",
    "        train_index_p = set(range(pn)) - test_index_p\n",
    "        (train_p, test_p) = (positive[np.array(list(train_index_p)), :],\n",
    "                             positive[np.array(list(test_index_p)), :])\n",
    "        test_index_n = set(range(i*int(nn/4), (i+1)*int(nn/4)))\n",
    "        train_index_n = set(range(nn)) - test_index_n\n",
    "        (train_n, test_n) = (negative[np.array(list(train_index_n)), :],\n",
    "                             negative[np.array(list(test_index_n)), :])\n",
    "        (train, test) = (np.r_[train_p, train_n], np.r_[test_p, test_n])\n",
    "        (X_train, y_train) = (train[:, :-1], train[:, -1:])\n",
    "        (X_test, y_test) = (test[:, :-1], test[:, -1:])\n",
    "        X_train = np.append(X_train, np.ones((X_train.shape[0], 1)), axis=1)\n",
    "        X_test = np.append(X_test, np.ones((X_test.shape[0], 1)), axis=1)\n",
    "        model.fit(X_train, y_train, lr=0.005)\n",
    "        result = model.predict(X_test)\n",
    "        delta = result-y_test\n",
    "        num = 0\n",
    "        for i in range(delta.shape[0]):\n",
    "            if delta[i] == 0:\n",
    "                num += 1\n",
    "        acc.append(num / delta.shape[0])\n",
    "print(sum(acc)/len(acc))"
   ]
  },
  {
   "cell_type": "code",
   "execution_count": 14,
   "metadata": {},
   "outputs": [
    {
     "name": "stdout",
     "output_type": "stream",
     "text": [
      "0.8137254901960789\n"
     ]
    }
   ],
   "source": [
    "# 梯度下降法(步长0.005,l2正则化(参数1))\n",
    "from Logistic import LogisticRegression\n",
    "np.random.seed(37)\n",
    "df = df.apply(lambda x: (x-np.min(x))/(np.max(x)-np.min(x)))\n",
    "positive = np.array(df.iloc[(df.iloc[:, 11] == 1.0).values, :])\n",
    "negative = np.array(df.iloc[(~(df.iloc[:, 11] == 1.0)).values, :])\n",
    "np.random.shuffle(positive)\n",
    "np.random.shuffle(negative)\n",
    "pn = positive.shape[0]\n",
    "nn = negative.shape[0]\n",
    "acc = []\n",
    "model = LogisticRegression(penalty='l2',plot=False)\n",
    "for i in range(10):\n",
    "    for i in range(4):\n",
    "        test_index_p = set(range(i*int(pn/4), (i+1)*int(pn/4)))\n",
    "        train_index_p = set(range(pn)) - test_index_p\n",
    "        (train_p, test_p) = (positive[np.array(list(train_index_p)), :],\n",
    "                             positive[np.array(list(test_index_p)), :])\n",
    "        test_index_n = set(range(i*int(nn/4), (i+1)*int(nn/4)))\n",
    "        train_index_n = set(range(nn)) - test_index_n\n",
    "        (train_n, test_n) = (negative[np.array(list(train_index_n)), :],\n",
    "                             negative[np.array(list(test_index_n)), :])\n",
    "        (train, test) = (np.r_[train_p, train_n], np.r_[test_p, test_n])\n",
    "        (X_train, y_train) = (train[:, :-1], train[:, -1:])\n",
    "        (X_test, y_test) = (test[:, :-1], test[:, -1:])\n",
    "        X_train = np.append(X_train, np.ones((X_train.shape[0], 1)), axis=1)\n",
    "        X_test = np.append(X_test, np.ones((X_test.shape[0], 1)), axis=1)\n",
    "        model.fit(X_train, y_train, lr=0.005)\n",
    "        result = model.predict(X_test)\n",
    "        delta = result-y_test\n",
    "        num = 0\n",
    "        for i in range(delta.shape[0]):\n",
    "            if delta[i] == 0:\n",
    "                num += 1\n",
    "        acc.append(num / delta.shape[0])\n",
    "print(sum(acc)/len(acc))"
   ]
  },
  {
   "cell_type": "code",
   "execution_count": 15,
   "metadata": {},
   "outputs": [
    {
     "name": "stdout",
     "output_type": "stream",
     "text": [
      "0.8153594771241834\n"
     ]
    }
   ],
   "source": [
    "# 梯度下降法(步长0.005,l2正则化(参数0.5))\n",
    "from Logistic import LogisticRegression\n",
    "np.random.seed(37)\n",
    "df = df.apply(lambda x: (x-np.min(x))/(np.max(x)-np.min(x)))\n",
    "positive = np.array(df.iloc[(df.iloc[:, 11] == 1.0).values, :])\n",
    "negative = np.array(df.iloc[(~(df.iloc[:, 11] == 1.0)).values, :])\n",
    "np.random.shuffle(positive)\n",
    "np.random.shuffle(negative)\n",
    "pn = positive.shape[0]\n",
    "nn = negative.shape[0]\n",
    "acc = []\n",
    "model = LogisticRegression(penalty='l2',gamma=0.5, plot=False)\n",
    "for i in range(10):\n",
    "    for i in range(4):\n",
    "        test_index_p = set(range(i*int(pn/4), (i+1)*int(pn/4)))\n",
    "        train_index_p = set(range(pn)) - test_index_p\n",
    "        (train_p, test_p) = (positive[np.array(list(train_index_p)), :],\n",
    "                             positive[np.array(list(test_index_p)), :])\n",
    "        test_index_n = set(range(i*int(nn/4), (i+1)*int(nn/4)))\n",
    "        train_index_n = set(range(nn)) - test_index_n\n",
    "        (train_n, test_n) = (negative[np.array(list(train_index_n)), :],\n",
    "                             negative[np.array(list(test_index_n)), :])\n",
    "        (train, test) = (np.r_[train_p, train_n], np.r_[test_p, test_n])\n",
    "        (X_train, y_train) = (train[:, :-1], train[:, -1:])\n",
    "        (X_test, y_test) = (test[:, :-1], test[:, -1:])\n",
    "        X_train = np.append(X_train, np.ones((X_train.shape[0], 1)), axis=1)\n",
    "        X_test = np.append(X_test, np.ones((X_test.shape[0], 1)), axis=1)\n",
    "        model.fit(X_train, y_train, lr=0.005)\n",
    "        result = model.predict(X_test)\n",
    "        delta = result-y_test\n",
    "        num = 0\n",
    "        for i in range(delta.shape[0]):\n",
    "            if delta[i] == 0:\n",
    "                num += 1\n",
    "        acc.append(num / delta.shape[0])\n",
    "print(sum(acc)/len(acc))"
   ]
  },
  {
   "cell_type": "code",
   "execution_count": 16,
   "metadata": {},
   "outputs": [
    {
     "name": "stdout",
     "output_type": "stream",
     "text": [
      "0.8153594771241834\n"
     ]
    }
   ],
   "source": [
    "# 梯度下降法(步长0.005,tol=1e-5)\n",
    "from Logistic import LogisticRegression\n",
    "np.random.seed(37)\n",
    "df = df.apply(lambda x: (x-np.min(x))/(np.max(x)-np.min(x)))\n",
    "positive = np.array(df.iloc[(df.iloc[:, 11] == 1.0).values, :])\n",
    "negative = np.array(df.iloc[(~(df.iloc[:, 11] == 1.0)).values, :])\n",
    "np.random.shuffle(positive)\n",
    "np.random.shuffle(negative)\n",
    "pn = positive.shape[0]\n",
    "nn = negative.shape[0]\n",
    "acc = []\n",
    "model = LogisticRegression(gamma=0, plot=False)\n",
    "for i in range(10):\n",
    "    for i in range(4):\n",
    "        test_index_p = set(range(i*int(pn/4), (i+1)*int(pn/4)))\n",
    "        train_index_p = set(range(pn)) - test_index_p\n",
    "        (train_p, test_p) = (positive[np.array(list(train_index_p)), :],\n",
    "                             positive[np.array(list(test_index_p)), :])\n",
    "        test_index_n = set(range(i*int(nn/4), (i+1)*int(nn/4)))\n",
    "        train_index_n = set(range(nn)) - test_index_n\n",
    "        (train_n, test_n) = (negative[np.array(list(train_index_n)), :],\n",
    "                             negative[np.array(list(test_index_n)), :])\n",
    "        (train, test) = (np.r_[train_p, train_n], np.r_[test_p, test_n])\n",
    "        (X_train, y_train) = (train[:, :-1], train[:, -1:])\n",
    "        (X_test, y_test) = (test[:, :-1], test[:, -1:])\n",
    "        X_train = np.append(X_train, np.ones((X_train.shape[0], 1)), axis=1)\n",
    "        X_test = np.append(X_test, np.ones((X_test.shape[0], 1)), axis=1)\n",
    "        model.fit(X_train, y_train, lr=0.005, tol=1e-5)\n",
    "        result = model.predict(X_test)\n",
    "        delta = result-y_test\n",
    "        num = 0\n",
    "        for i in range(delta.shape[0]):\n",
    "            if delta[i] == 0:\n",
    "                num += 1\n",
    "        acc.append(num / delta.shape[0])\n",
    "print(sum(acc)/len(acc))"
   ]
  },
  {
   "cell_type": "code",
   "execution_count": 17,
   "metadata": {},
   "outputs": [
    {
     "name": "stdout",
     "output_type": "stream",
     "text": [
      "0.8137254901960789\n"
     ]
    }
   ],
   "source": [
    "# 梯度下降法(步长0.005,tol=1e-3)\n",
    "from Logistic import LogisticRegression\n",
    "np.random.seed(37)\n",
    "df = df.apply(lambda x: (x-np.min(x))/(np.max(x)-np.min(x)))\n",
    "positive = np.array(df.iloc[(df.iloc[:, 11] == 1.0).values, :])\n",
    "negative = np.array(df.iloc[(~(df.iloc[:, 11] == 1.0)).values, :])\n",
    "np.random.shuffle(positive)\n",
    "np.random.shuffle(negative)\n",
    "pn = positive.shape[0]\n",
    "nn = negative.shape[0]\n",
    "acc = []\n",
    "model = LogisticRegression(gamma=0, plot=False)\n",
    "for i in range(10):\n",
    "    for i in range(4):\n",
    "        test_index_p = set(range(i*int(pn/4), (i+1)*int(pn/4)))\n",
    "        train_index_p = set(range(pn)) - test_index_p\n",
    "        (train_p, test_p) = (positive[np.array(list(train_index_p)), :],\n",
    "                             positive[np.array(list(test_index_p)), :])\n",
    "        test_index_n = set(range(i*int(nn/4), (i+1)*int(nn/4)))\n",
    "        train_index_n = set(range(nn)) - test_index_n\n",
    "        (train_n, test_n) = (negative[np.array(list(train_index_n)), :],\n",
    "                             negative[np.array(list(test_index_n)), :])\n",
    "        (train, test) = (np.r_[train_p, train_n], np.r_[test_p, test_n])\n",
    "        (X_train, y_train) = (train[:, :-1], train[:, -1:])\n",
    "        (X_test, y_test) = (test[:, :-1], test[:, -1:])\n",
    "        X_train = np.append(X_train, np.ones((X_train.shape[0], 1)), axis=1)\n",
    "        X_test = np.append(X_test, np.ones((X_test.shape[0], 1)), axis=1)\n",
    "        model.fit(X_train, y_train, lr=0.005, tol=1e-3)\n",
    "        result = model.predict(X_test)\n",
    "        delta = result-y_test\n",
    "        num = 0\n",
    "        for i in range(delta.shape[0]):\n",
    "            if delta[i] == 0:\n",
    "                num += 1\n",
    "        acc.append(num / delta.shape[0])\n",
    "print(sum(acc)/len(acc))"
   ]
  },
  {
   "cell_type": "code",
   "execution_count": 18,
   "metadata": {},
   "outputs": [
    {
     "name": "stdout",
     "output_type": "stream",
     "text": [
      "0.8153594771241834\n"
     ]
    }
   ],
   "source": [
    "# 牛顿法\n",
    "from Logistic import LogisticRegression\n",
    "np.random.seed(37)\n",
    "df = df.apply(lambda x: (x-np.min(x))/(np.max(x)-np.min(x)))\n",
    "positive = np.array(df.iloc[(df.iloc[:, 11] == 1.0).values, :])\n",
    "negative = np.array(df.iloc[(~(df.iloc[:, 11] == 1.0)).values, :])\n",
    "np.random.shuffle(positive)\n",
    "np.random.shuffle(negative)\n",
    "pn = positive.shape[0]\n",
    "nn = negative.shape[0]\n",
    "acc = []\n",
    "model = LogisticRegression(gamma=0, plot=False)\n",
    "for i in range(10):\n",
    "    for i in range(4):\n",
    "        test_index_p = set(range(i*int(pn/4), (i+1)*int(pn/4)))\n",
    "        train_index_p = set(range(pn)) - test_index_p\n",
    "        (train_p, test_p) = (positive[np.array(list(train_index_p)), :],\n",
    "                             positive[np.array(list(test_index_p)), :])\n",
    "        test_index_n = set(range(i*int(nn/4), (i+1)*int(nn/4)))\n",
    "        train_index_n = set(range(nn)) - test_index_n\n",
    "        (train_n, test_n) = (negative[np.array(list(train_index_n)), :],\n",
    "                             negative[np.array(list(test_index_n)), :])\n",
    "        (train, test) = (np.r_[train_p, train_n], np.r_[test_p, test_n])\n",
    "        (X_train, y_train) = (train[:, :-1], train[:, -1:])\n",
    "        (X_test, y_test) = (test[:, :-1], test[:, -1:])\n",
    "        X_train = np.append(X_train, np.ones((X_train.shape[0], 1)), axis=1)\n",
    "        X_test = np.append(X_test, np.ones((X_test.shape[0], 1)), axis=1)\n",
    "        model.fit(X_train, y_train, pattern='newton', lr=1)\n",
    "        result = model.predict(X_test)\n",
    "        delta = result-y_test\n",
    "        num = 0\n",
    "        for i in range(delta.shape[0]):\n",
    "            if delta[i] == 0:\n",
    "                num += 1\n",
    "        acc.append(num / delta.shape[0])\n",
    "print(sum(acc)/len(acc))"
   ]
  },
  {
   "cell_type": "code",
   "execution_count": 19,
   "metadata": {},
   "outputs": [
    {
     "name": "stdout",
     "output_type": "stream",
     "text": [
      "0.8137254901960789\n"
     ]
    }
   ],
   "source": [
    "# 牛顿法(l1正则化(参数2))\n",
    "from Logistic import LogisticRegression\n",
    "np.random.seed(37)\n",
    "df = df.apply(lambda x: (x-np.min(x))/(np.max(x)-np.min(x)))\n",
    "positive = np.array(df.iloc[(df.iloc[:, 11] == 1.0).values, :])\n",
    "negative = np.array(df.iloc[(~(df.iloc[:, 11] == 1.0)).values, :])\n",
    "np.random.shuffle(positive)\n",
    "np.random.shuffle(negative)\n",
    "pn = positive.shape[0]\n",
    "nn = negative.shape[0]\n",
    "acc = []\n",
    "model = LogisticRegression(penalty='l1',gamma=2, plot=False)\n",
    "for i in range(10):\n",
    "    for i in range(4):\n",
    "        test_index_p = set(range(i*int(pn/4), (i+1)*int(pn/4)))\n",
    "        train_index_p = set(range(pn)) - test_index_p\n",
    "        (train_p, test_p) = (positive[np.array(list(train_index_p)), :],\n",
    "                             positive[np.array(list(test_index_p)), :])\n",
    "        test_index_n = set(range(i*int(nn/4), (i+1)*int(nn/4)))\n",
    "        train_index_n = set(range(nn)) - test_index_n\n",
    "        (train_n, test_n) = (negative[np.array(list(train_index_n)), :],\n",
    "                             negative[np.array(list(test_index_n)), :])\n",
    "        (train, test) = (np.r_[train_p, train_n], np.r_[test_p, test_n])\n",
    "        (X_train, y_train) = (train[:, :-1], train[:, -1:])\n",
    "        (X_test, y_test) = (test[:, :-1], test[:, -1:])\n",
    "        X_train = np.append(X_train, np.ones((X_train.shape[0], 1)), axis=1)\n",
    "        X_test = np.append(X_test, np.ones((X_test.shape[0], 1)), axis=1)\n",
    "        model.fit(X_train, y_train, pattern='newton', lr=1, tol=1e-1)\n",
    "        result = model.predict(X_test)\n",
    "        delta = result-y_test\n",
    "        num = 0\n",
    "        for i in range(delta.shape[0]):\n",
    "            if delta[i] == 0:\n",
    "                num += 1\n",
    "        acc.append(num / delta.shape[0])\n",
    "print(sum(acc)/len(acc))"
   ]
  },
  {
   "cell_type": "code",
   "execution_count": 20,
   "metadata": {},
   "outputs": [
    {
     "name": "stdout",
     "output_type": "stream",
     "text": [
      "0.8153594771241834\n"
     ]
    }
   ],
   "source": [
    "# 牛顿法(l1正则化(参数1))\n",
    "from Logistic import LogisticRegression\n",
    "np.random.seed(37)\n",
    "df = df.apply(lambda x: (x-np.min(x))/(np.max(x)-np.min(x)))\n",
    "positive = np.array(df.iloc[(df.iloc[:, 11] == 1.0).values, :])\n",
    "negative = np.array(df.iloc[(~(df.iloc[:, 11] == 1.0)).values, :])\n",
    "np.random.shuffle(positive)\n",
    "np.random.shuffle(negative)\n",
    "pn = positive.shape[0]\n",
    "nn = negative.shape[0]\n",
    "acc = []\n",
    "model = LogisticRegression(penalty='l1', plot=False)\n",
    "for i in range(10):\n",
    "    for i in range(4):\n",
    "        test_index_p = set(range(i*int(pn/4), (i+1)*int(pn/4)))\n",
    "        train_index_p = set(range(pn)) - test_index_p\n",
    "        (train_p, test_p) = (positive[np.array(list(train_index_p)), :],\n",
    "                             positive[np.array(list(test_index_p)), :])\n",
    "        test_index_n = set(range(i*int(nn/4), (i+1)*int(nn/4)))\n",
    "        train_index_n = set(range(nn)) - test_index_n\n",
    "        (train_n, test_n) = (negative[np.array(list(train_index_n)), :],\n",
    "                             negative[np.array(list(test_index_n)), :])\n",
    "        (train, test) = (np.r_[train_p, train_n], np.r_[test_p, test_n])\n",
    "        (X_train, y_train) = (train[:, :-1], train[:, -1:])\n",
    "        (X_test, y_test) = (test[:, :-1], test[:, -1:])\n",
    "        X_train = np.append(X_train, np.ones((X_train.shape[0], 1)), axis=1)\n",
    "        X_test = np.append(X_test, np.ones((X_test.shape[0], 1)), axis=1)\n",
    "        model.fit(X_train, y_train, pattern='newton', lr=1, tol=1e-1)\n",
    "        result = model.predict(X_test)\n",
    "        delta = result-y_test\n",
    "        num = 0\n",
    "        for i in range(delta.shape[0]):\n",
    "            if delta[i] == 0:\n",
    "                num += 1\n",
    "        acc.append(num / delta.shape[0])\n",
    "print(sum(acc)/len(acc))"
   ]
  },
  {
   "cell_type": "code",
   "execution_count": 21,
   "metadata": {},
   "outputs": [
    {
     "name": "stdout",
     "output_type": "stream",
     "text": [
      "0.8153594771241834\n"
     ]
    }
   ],
   "source": [
    "# 牛顿法(l1正则化(参数0.5))\n",
    "from Logistic import LogisticRegression\n",
    "np.random.seed(37)\n",
    "df = df.apply(lambda x: (x-np.min(x))/(np.max(x)-np.min(x)))\n",
    "positive = np.array(df.iloc[(df.iloc[:, 11] == 1.0).values, :])\n",
    "negative = np.array(df.iloc[(~(df.iloc[:, 11] == 1.0)).values, :])\n",
    "np.random.shuffle(positive)\n",
    "np.random.shuffle(negative)\n",
    "pn = positive.shape[0]\n",
    "nn = negative.shape[0]\n",
    "acc = []\n",
    "model = LogisticRegression(penalty='l1',gamma=0.5, plot=False)\n",
    "for i in range(10):\n",
    "    for i in range(4):\n",
    "        test_index_p = set(range(i*int(pn/4), (i+1)*int(pn/4)))\n",
    "        train_index_p = set(range(pn)) - test_index_p\n",
    "        (train_p, test_p) = (positive[np.array(list(train_index_p)), :],\n",
    "                             positive[np.array(list(test_index_p)), :])\n",
    "        test_index_n = set(range(i*int(nn/4), (i+1)*int(nn/4)))\n",
    "        train_index_n = set(range(nn)) - test_index_n\n",
    "        (train_n, test_n) = (negative[np.array(list(train_index_n)), :],\n",
    "                             negative[np.array(list(test_index_n)), :])\n",
    "        (train, test) = (np.r_[train_p, train_n], np.r_[test_p, test_n])\n",
    "        (X_train, y_train) = (train[:, :-1], train[:, -1:])\n",
    "        (X_test, y_test) = (test[:, :-1], test[:, -1:])\n",
    "        X_train = np.append(X_train, np.ones((X_train.shape[0], 1)), axis=1)\n",
    "        X_test = np.append(X_test, np.ones((X_test.shape[0], 1)), axis=1)\n",
    "        model.fit(X_train, y_train, pattern='newton', lr=1)\n",
    "        result = model.predict(X_test)\n",
    "        delta = result-y_test\n",
    "        num = 0\n",
    "        for i in range(delta.shape[0]):\n",
    "            if delta[i] == 0:\n",
    "                num += 1\n",
    "        acc.append(num / delta.shape[0])\n",
    "print(sum(acc)/len(acc))"
   ]
  },
  {
   "cell_type": "code",
   "execution_count": 22,
   "metadata": {},
   "outputs": [
    {
     "name": "stdout",
     "output_type": "stream",
     "text": [
      "0.8137254901960789\n"
     ]
    }
   ],
   "source": [
    "# 牛顿法(l2正则化(参数2))\n",
    "from Logistic import LogisticRegression\n",
    "np.random.seed(37)\n",
    "df = df.apply(lambda x: (x-np.min(x))/(np.max(x)-np.min(x)))\n",
    "positive = np.array(df.iloc[(df.iloc[:, 11] == 1.0).values, :])\n",
    "negative = np.array(df.iloc[(~(df.iloc[:, 11] == 1.0)).values, :])\n",
    "np.random.shuffle(positive)\n",
    "np.random.shuffle(negative)\n",
    "pn = positive.shape[0]\n",
    "nn = negative.shape[0]\n",
    "acc = []\n",
    "model = LogisticRegression(penalty='l2',gamma=2, plot=False)\n",
    "for i in range(10):\n",
    "    for i in range(4):\n",
    "        test_index_p = set(range(i*int(pn/4), (i+1)*int(pn/4)))\n",
    "        train_index_p = set(range(pn)) - test_index_p\n",
    "        (train_p, test_p) = (positive[np.array(list(train_index_p)), :],\n",
    "                             positive[np.array(list(test_index_p)), :])\n",
    "        test_index_n = set(range(i*int(nn/4), (i+1)*int(nn/4)))\n",
    "        train_index_n = set(range(nn)) - test_index_n\n",
    "        (train_n, test_n) = (negative[np.array(list(train_index_n)), :],\n",
    "                             negative[np.array(list(test_index_n)), :])\n",
    "        (train, test) = (np.r_[train_p, train_n], np.r_[test_p, test_n])\n",
    "        (X_train, y_train) = (train[:, :-1], train[:, -1:])\n",
    "        (X_test, y_test) = (test[:, :-1], test[:, -1:])\n",
    "        X_train = np.append(X_train, np.ones((X_train.shape[0], 1)), axis=1)\n",
    "        X_test = np.append(X_test, np.ones((X_test.shape[0], 1)), axis=1)\n",
    "        model.fit(X_train, y_train, pattern='newton', lr=1)\n",
    "        result = model.predict(X_test)\n",
    "        delta = result-y_test\n",
    "        num = 0\n",
    "        for i in range(delta.shape[0]):\n",
    "            if delta[i] == 0:\n",
    "                num += 1\n",
    "        acc.append(num / delta.shape[0])\n",
    "print(sum(acc)/len(acc))"
   ]
  },
  {
   "cell_type": "code",
   "execution_count": 23,
   "metadata": {},
   "outputs": [
    {
     "name": "stdout",
     "output_type": "stream",
     "text": [
      "0.8137254901960789\n"
     ]
    }
   ],
   "source": [
    "# 牛顿法(l2正则化(参数1))\n",
    "from Logistic import LogisticRegression\n",
    "np.random.seed(37)\n",
    "df = df.apply(lambda x: (x-np.min(x))/(np.max(x)-np.min(x)))\n",
    "positive = np.array(df.iloc[(df.iloc[:, 11] == 1.0).values, :])\n",
    "negative = np.array(df.iloc[(~(df.iloc[:, 11] == 1.0)).values, :])\n",
    "np.random.shuffle(positive)\n",
    "np.random.shuffle(negative)\n",
    "pn = positive.shape[0]\n",
    "nn = negative.shape[0]\n",
    "acc = []\n",
    "model = LogisticRegression(penalty='l2', plot=False)\n",
    "for i in range(10):\n",
    "    for i in range(4):\n",
    "        test_index_p = set(range(i*int(pn/4), (i+1)*int(pn/4)))\n",
    "        train_index_p = set(range(pn)) - test_index_p\n",
    "        (train_p, test_p) = (positive[np.array(list(train_index_p)), :],\n",
    "                             positive[np.array(list(test_index_p)), :])\n",
    "        test_index_n = set(range(i*int(nn/4), (i+1)*int(nn/4)))\n",
    "        train_index_n = set(range(nn)) - test_index_n\n",
    "        (train_n, test_n) = (negative[np.array(list(train_index_n)), :],\n",
    "                             negative[np.array(list(test_index_n)), :])\n",
    "        (train, test) = (np.r_[train_p, train_n], np.r_[test_p, test_n])\n",
    "        (X_train, y_train) = (train[:, :-1], train[:, -1:])\n",
    "        (X_test, y_test) = (test[:, :-1], test[:, -1:])\n",
    "        X_train = np.append(X_train, np.ones((X_train.shape[0], 1)), axis=1)\n",
    "        X_test = np.append(X_test, np.ones((X_test.shape[0], 1)), axis=1)\n",
    "        model.fit(X_train, y_train, pattern='newton', lr=1)\n",
    "        result = model.predict(X_test)\n",
    "        delta = result-y_test\n",
    "        num = 0\n",
    "        for i in range(delta.shape[0]):\n",
    "            if delta[i] == 0:\n",
    "                num += 1\n",
    "        acc.append(num / delta.shape[0])\n",
    "print(sum(acc)/len(acc))"
   ]
  },
  {
   "cell_type": "code",
   "execution_count": 24,
   "metadata": {},
   "outputs": [
    {
     "name": "stdout",
     "output_type": "stream",
     "text": [
      "0.8153594771241834\n"
     ]
    }
   ],
   "source": [
    "# 牛顿法(l2正则化(参数0.5))\n",
    "from Logistic import LogisticRegression\n",
    "np.random.seed(37)\n",
    "df = df.apply(lambda x: (x-np.min(x))/(np.max(x)-np.min(x)))\n",
    "positive = np.array(df.iloc[(df.iloc[:, 11] == 1.0).values, :])\n",
    "negative = np.array(df.iloc[(~(df.iloc[:, 11] == 1.0)).values, :])\n",
    "np.random.shuffle(positive)\n",
    "np.random.shuffle(negative)\n",
    "pn = positive.shape[0]\n",
    "nn = negative.shape[0]\n",
    "acc = []\n",
    "model = LogisticRegression(penalty='l2',gamma=0.5, plot=False)\n",
    "for i in range(10):\n",
    "    for i in range(4):\n",
    "        test_index_p = set(range(i*int(pn/4), (i+1)*int(pn/4)))\n",
    "        train_index_p = set(range(pn)) - test_index_p\n",
    "        (train_p, test_p) = (positive[np.array(list(train_index_p)), :],\n",
    "                             positive[np.array(list(test_index_p)), :])\n",
    "        test_index_n = set(range(i*int(nn/4), (i+1)*int(nn/4)))\n",
    "        train_index_n = set(range(nn)) - test_index_n\n",
    "        (train_n, test_n) = (negative[np.array(list(train_index_n)), :],\n",
    "                             negative[np.array(list(test_index_n)), :])\n",
    "        (train, test) = (np.r_[train_p, train_n], np.r_[test_p, test_n])\n",
    "        (X_train, y_train) = (train[:, :-1], train[:, -1:])\n",
    "        (X_test, y_test) = (test[:, :-1], test[:, -1:])\n",
    "        X_train = np.append(X_train, np.ones((X_train.shape[0], 1)), axis=1)\n",
    "        X_test = np.append(X_test, np.ones((X_test.shape[0], 1)), axis=1)\n",
    "        model.fit(X_train, y_train, pattern='newton', lr=1)\n",
    "        result = model.predict(X_test)\n",
    "        delta = result-y_test\n",
    "        num = 0\n",
    "        for i in range(delta.shape[0]):\n",
    "            if delta[i] == 0:\n",
    "                num += 1\n",
    "        acc.append(num / delta.shape[0])\n",
    "print(sum(acc)/len(acc))"
   ]
  },
  {
   "cell_type": "code",
   "execution_count": 25,
   "metadata": {},
   "outputs": [
    {
     "name": "stdout",
     "output_type": "stream",
     "text": [
      "0.8153594771241834\n"
     ]
    }
   ],
   "source": [
    "# 牛顿法(tol=1e-5)\n",
    "from Logistic import LogisticRegression\n",
    "np.random.seed(37)\n",
    "df = df.apply(lambda x: (x-np.min(x))/(np.max(x)-np.min(x)))\n",
    "positive = np.array(df.iloc[(df.iloc[:, 11] == 1.0).values, :])\n",
    "negative = np.array(df.iloc[(~(df.iloc[:, 11] == 1.0)).values, :])\n",
    "np.random.shuffle(positive)\n",
    "np.random.shuffle(negative)\n",
    "pn = positive.shape[0]\n",
    "nn = negative.shape[0]\n",
    "acc = []\n",
    "model = LogisticRegression(gamma=0, plot=False)\n",
    "for i in range(10):\n",
    "    for i in range(4):\n",
    "        test_index_p = set(range(i*int(pn/4), (i+1)*int(pn/4)))\n",
    "        train_index_p = set(range(pn)) - test_index_p\n",
    "        (train_p, test_p) = (positive[np.array(list(train_index_p)), :],\n",
    "                             positive[np.array(list(test_index_p)), :])\n",
    "        test_index_n = set(range(i*int(nn/4), (i+1)*int(nn/4)))\n",
    "        train_index_n = set(range(nn)) - test_index_n\n",
    "        (train_n, test_n) = (negative[np.array(list(train_index_n)), :],\n",
    "                             negative[np.array(list(test_index_n)), :])\n",
    "        (train, test) = (np.r_[train_p, train_n], np.r_[test_p, test_n])\n",
    "        (X_train, y_train) = (train[:, :-1], train[:, -1:])\n",
    "        (X_test, y_test) = (test[:, :-1], test[:, -1:])\n",
    "        X_train = np.append(X_train, np.ones((X_train.shape[0], 1)), axis=1)\n",
    "        X_test = np.append(X_test, np.ones((X_test.shape[0], 1)), axis=1)\n",
    "        model.fit(X_train, y_train, pattern='newton', lr=1,tol=1e-5)\n",
    "        result = model.predict(X_test)\n",
    "        delta = result-y_test\n",
    "        num = 0\n",
    "        for i in range(delta.shape[0]):\n",
    "            if delta[i] == 0:\n",
    "                num += 1\n",
    "        acc.append(num / delta.shape[0])\n",
    "print(sum(acc)/len(acc))"
   ]
  },
  {
   "cell_type": "code",
   "execution_count": 26,
   "metadata": {},
   "outputs": [
    {
     "name": "stdout",
     "output_type": "stream",
     "text": [
      "0.8153594771241834\n"
     ]
    }
   ],
   "source": [
    "# 牛顿法(tol=1e-3)\n",
    "from Logistic import LogisticRegression\n",
    "np.random.seed(37)\n",
    "df = df.apply(lambda x: (x-np.min(x))/(np.max(x)-np.min(x)))\n",
    "positive = np.array(df.iloc[(df.iloc[:, 11] == 1.0).values, :])\n",
    "negative = np.array(df.iloc[(~(df.iloc[:, 11] == 1.0)).values, :])\n",
    "np.random.shuffle(positive)\n",
    "np.random.shuffle(negative)\n",
    "pn = positive.shape[0]\n",
    "nn = negative.shape[0]\n",
    "acc = []\n",
    "model = LogisticRegression(gamma=0, plot=False)\n",
    "for i in range(10):\n",
    "    for i in range(4):\n",
    "        test_index_p = set(range(i*int(pn/4), (i+1)*int(pn/4)))\n",
    "        train_index_p = set(range(pn)) - test_index_p\n",
    "        (train_p, test_p) = (positive[np.array(list(train_index_p)), :],\n",
    "                             positive[np.array(list(test_index_p)), :])\n",
    "        test_index_n = set(range(i*int(nn/4), (i+1)*int(nn/4)))\n",
    "        train_index_n = set(range(nn)) - test_index_n\n",
    "        (train_n, test_n) = (negative[np.array(list(train_index_n)), :],\n",
    "                             negative[np.array(list(test_index_n)), :])\n",
    "        (train, test) = (np.r_[train_p, train_n], np.r_[test_p, test_n])\n",
    "        (X_train, y_train) = (train[:, :-1], train[:, -1:])\n",
    "        (X_test, y_test) = (test[:, :-1], test[:, -1:])\n",
    "        X_train = np.append(X_train, np.ones((X_train.shape[0], 1)), axis=1)\n",
    "        X_test = np.append(X_test, np.ones((X_test.shape[0], 1)), axis=1)\n",
    "        model.fit(X_train, y_train, pattern='newton', lr=1,tol=1e-3)\n",
    "        result = model.predict(X_test)\n",
    "        delta = result-y_test\n",
    "        num = 0\n",
    "        for i in range(delta.shape[0]):\n",
    "            if delta[i] == 0:\n",
    "                num += 1\n",
    "        acc.append(num / delta.shape[0])\n",
    "print(sum(acc)/len(acc))"
   ]
  },
  {
   "cell_type": "code",
   "execution_count": 27,
   "metadata": {},
   "outputs": [
    {
     "name": "stdout",
     "output_type": "stream",
     "text": [
      "0.8137254901960789\n"
     ]
    }
   ],
   "source": [
    "# 牛顿法(保留第6789列特征)\n",
    "from Logistic import LogisticRegression\n",
    "np.random.seed(37)\n",
    "df = df.apply(lambda x: (x-np.min(x))/(np.max(x)-np.min(x)))\n",
    "_df = df.iloc[:,[6,7,8,9,11]]\n",
    "positive = np.array(_df.iloc[(_df.iloc[:, 4] == 1.0).values, :])\n",
    "negative = np.array(_df.iloc[(~(_df.iloc[:, 4] == 1.0)).values, :])\n",
    "np.random.shuffle(positive)\n",
    "np.random.shuffle(negative)\n",
    "pn = positive.shape[0]\n",
    "nn = negative.shape[0]\n",
    "acc = []\n",
    "model = LogisticRegression(gamma=0, plot=False)\n",
    "for i in range(10):\n",
    "    for i in range(4):\n",
    "        test_index_p = set(range(i*int(pn/4), (i+1)*int(pn/4)))\n",
    "        train_index_p = set(range(pn)) - test_index_p\n",
    "        (train_p, test_p) = (positive[np.array(list(train_index_p)), :],\n",
    "                             positive[np.array(list(test_index_p)), :])\n",
    "        test_index_n = set(range(i*int(nn/4), (i+1)*int(nn/4)))\n",
    "        train_index_n = set(range(nn)) - test_index_n\n",
    "        (train_n, test_n) = (negative[np.array(list(train_index_n)), :],\n",
    "                             negative[np.array(list(test_index_n)), :])\n",
    "        (train, test) = (np.r_[train_p, train_n], np.r_[test_p, test_n])\n",
    "        (X_train, y_train) = (train[:, :-1], train[:, -1:])\n",
    "        (X_test, y_test) = (test[:, :-1], test[:, -1:])\n",
    "        X_train = np.append(X_train, np.ones((X_train.shape[0], 1)), axis=1)\n",
    "        X_test = np.append(X_test, np.ones((X_test.shape[0], 1)), axis=1)\n",
    "        model.fit(X_train, y_train, pattern='newton', lr=1)\n",
    "        result = model.predict(X_test)\n",
    "        delta = result-y_test\n",
    "        num = 0\n",
    "        for i in range(delta.shape[0]):\n",
    "            if delta[i] == 0:\n",
    "                num += 1\n",
    "        acc.append(num / delta.shape[0])\n",
    "print(sum(acc)/len(acc))"
   ]
  },
  {
   "cell_type": "code",
   "execution_count": 28,
   "metadata": {},
   "outputs": [
    {
     "name": "stdout",
     "output_type": "stream",
     "text": [
      "0.8137254901960789\n"
     ]
    }
   ],
   "source": [
    "# 牛顿法(保留第69列特征)\n",
    "from Logistic import LogisticRegression\n",
    "np.random.seed(37)\n",
    "df = df.apply(lambda x: (x-np.min(x))/(np.max(x)-np.min(x)))\n",
    "_df = df.iloc[:,[6,9,11]]\n",
    "positive = np.array(_df.iloc[(_df.iloc[:, 2] == 1.0).values, :])\n",
    "negative = np.array(_df.iloc[(~(_df.iloc[:, 2] == 1.0)).values, :])\n",
    "np.random.shuffle(positive)\n",
    "np.random.shuffle(negative)\n",
    "pn = positive.shape[0]\n",
    "nn = negative.shape[0]\n",
    "acc = []\n",
    "model = LogisticRegression(gamma=0, plot=False)\n",
    "for i in range(10):\n",
    "    for i in range(4):\n",
    "        test_index_p = set(range(i*int(pn/4), (i+1)*int(pn/4)))\n",
    "        train_index_p = set(range(pn)) - test_index_p\n",
    "        (train_p, test_p) = (positive[np.array(list(train_index_p)), :],\n",
    "                             positive[np.array(list(test_index_p)), :])\n",
    "        test_index_n = set(range(i*int(nn/4), (i+1)*int(nn/4)))\n",
    "        train_index_n = set(range(nn)) - test_index_n\n",
    "        (train_n, test_n) = (negative[np.array(list(train_index_n)), :],\n",
    "                             negative[np.array(list(test_index_n)), :])\n",
    "        (train, test) = (np.r_[train_p, train_n], np.r_[test_p, test_n])\n",
    "        (X_train, y_train) = (train[:, :-1], train[:, -1:])\n",
    "        (X_test, y_test) = (test[:, :-1], test[:, -1:])\n",
    "        X_train = np.append(X_train, np.ones((X_train.shape[0], 1)), axis=1)\n",
    "        X_test = np.append(X_test, np.ones((X_test.shape[0], 1)), axis=1)\n",
    "        model.fit(X_train, y_train, pattern='newton', lr=1)\n",
    "        result = model.predict(X_test)\n",
    "        delta = result-y_test\n",
    "        num = 0\n",
    "        for i in range(delta.shape[0]):\n",
    "            if delta[i] == 0:\n",
    "                num += 1\n",
    "        acc.append(num / delta.shape[0])\n",
    "print(sum(acc)/len(acc))"
   ]
  },
  {
   "cell_type": "code",
   "execution_count": 29,
   "metadata": {},
   "outputs": [
    {
     "name": "stdout",
     "output_type": "stream",
     "text": [
      "0.8120915032679743\n"
     ]
    }
   ],
   "source": [
    "# 牛顿法(保留第9列特征)\n",
    "from Logistic import LogisticRegression\n",
    "np.random.seed(37)\n",
    "df = df.apply(lambda x: (x-np.min(x))/(np.max(x)-np.min(x)))\n",
    "_df = df.iloc[:,[9,11]]\n",
    "positive = np.array(_df.iloc[(_df.iloc[:, 1] == 1.0).values, :])\n",
    "negative = np.array(_df.iloc[(~(_df.iloc[:, 1] == 1.0)).values, :])\n",
    "np.random.shuffle(positive)\n",
    "np.random.shuffle(negative)\n",
    "pn = positive.shape[0]\n",
    "nn = negative.shape[0]\n",
    "acc = []\n",
    "model = LogisticRegression(gamma=0, plot=False)\n",
    "for i in range(10):\n",
    "    for i in range(4):\n",
    "        test_index_p = set(range(i*int(pn/4), (i+1)*int(pn/4)))\n",
    "        train_index_p = set(range(pn)) - test_index_p\n",
    "        (train_p, test_p) = (positive[np.array(list(train_index_p)), :],\n",
    "                             positive[np.array(list(test_index_p)), :])\n",
    "        test_index_n = set(range(i*int(nn/4), (i+1)*int(nn/4)))\n",
    "        train_index_n = set(range(nn)) - test_index_n\n",
    "        (train_n, test_n) = (negative[np.array(list(train_index_n)), :],\n",
    "                             negative[np.array(list(test_index_n)), :])\n",
    "        (train, test) = (np.r_[train_p, train_n], np.r_[test_p, test_n])\n",
    "        (X_train, y_train) = (train[:, :-1], train[:, -1:])\n",
    "        (X_test, y_test) = (test[:, :-1], test[:, -1:])\n",
    "        X_train = np.append(X_train, np.ones((X_train.shape[0], 1)), axis=1)\n",
    "        X_test = np.append(X_test, np.ones((X_test.shape[0], 1)), axis=1)\n",
    "        model.fit(X_train, y_train, pattern='newton', lr=1)\n",
    "        result = model.predict(X_test)\n",
    "        delta = result-y_test\n",
    "        num = 0\n",
    "        for i in range(delta.shape[0]):\n",
    "            if delta[i] == 0:\n",
    "                num += 1\n",
    "        acc.append(num / delta.shape[0])\n",
    "print(sum(acc)/len(acc))"
   ]
  }
 ],
 "metadata": {
  "kernelspec": {
   "display_name": "Python 3.9.13 ('ml')",
   "language": "python",
   "name": "python3"
  },
  "language_info": {
   "codemirror_mode": {
    "name": "ipython",
    "version": 3
   },
   "file_extension": ".py",
   "mimetype": "text/x-python",
   "name": "python",
   "nbconvert_exporter": "python",
   "pygments_lexer": "ipython3",
   "version": "3.9.13"
  },
  "vscode": {
   "interpreter": {
    "hash": "c58e9361bde7ca617934da376e83056db506761bdc9593ca2087fabac973f609"
   }
  }
 },
 "nbformat": 4,
 "nbformat_minor": 2
}
