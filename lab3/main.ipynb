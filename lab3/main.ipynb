{
 "cells": [
  {
   "cell_type": "markdown",
   "metadata": {},
   "source": [
    "## Load Dataset"
   ]
  },
  {
   "cell_type": "code",
   "execution_count": 21,
   "metadata": {},
   "outputs": [
    {
     "data": {
      "text/html": [
       "<div>\n",
       "<style scoped>\n",
       "    .dataframe tbody tr th:only-of-type {\n",
       "        vertical-align: middle;\n",
       "    }\n",
       "\n",
       "    .dataframe tbody tr th {\n",
       "        vertical-align: top;\n",
       "    }\n",
       "\n",
       "    .dataframe thead th {\n",
       "        text-align: right;\n",
       "    }\n",
       "</style>\n",
       "<table border=\"1\" class=\"dataframe\">\n",
       "  <thead>\n",
       "    <tr style=\"text-align: right;\">\n",
       "      <th></th>\n",
       "      <th>0</th>\n",
       "      <th>1</th>\n",
       "      <th>2</th>\n",
       "      <th>3</th>\n",
       "      <th>4</th>\n",
       "      <th>5</th>\n",
       "      <th>6</th>\n",
       "      <th>7</th>\n",
       "      <th>8</th>\n",
       "      <th>9</th>\n",
       "      <th>...</th>\n",
       "      <th>31</th>\n",
       "      <th>32</th>\n",
       "      <th>33</th>\n",
       "      <th>34</th>\n",
       "      <th>35</th>\n",
       "      <th>36</th>\n",
       "      <th>37</th>\n",
       "      <th>38</th>\n",
       "      <th>39</th>\n",
       "      <th>40</th>\n",
       "    </tr>\n",
       "  </thead>\n",
       "  <tbody>\n",
       "    <tr>\n",
       "      <th>0</th>\n",
       "      <td>2</td>\n",
       "      <td>-56</td>\n",
       "      <td>-0.33</td>\n",
       "      <td>-0.09</td>\n",
       "      <td>0.90</td>\n",
       "      <td>0.2</td>\n",
       "      <td>-11</td>\n",
       "      <td>12</td>\n",
       "      <td>0.004</td>\n",
       "      <td>-0.1</td>\n",
       "      <td>...</td>\n",
       "      <td>0.0</td>\n",
       "      <td>0.0</td>\n",
       "      <td>0.0</td>\n",
       "      <td>0.0</td>\n",
       "      <td>0.0</td>\n",
       "      <td>0.000</td>\n",
       "      <td>0.0</td>\n",
       "      <td>0.9</td>\n",
       "      <td>0.032</td>\n",
       "      <td>-0.0009</td>\n",
       "    </tr>\n",
       "    <tr>\n",
       "      <th>1</th>\n",
       "      <td>470</td>\n",
       "      <td>-39</td>\n",
       "      <td>0.02</td>\n",
       "      <td>0.12</td>\n",
       "      <td>0.39</td>\n",
       "      <td>-0.6</td>\n",
       "      <td>-12</td>\n",
       "      <td>8</td>\n",
       "      <td>0.009</td>\n",
       "      <td>-1.6</td>\n",
       "      <td>...</td>\n",
       "      <td>0.0</td>\n",
       "      <td>0.0</td>\n",
       "      <td>0.0</td>\n",
       "      <td>0.0</td>\n",
       "      <td>0.0</td>\n",
       "      <td>0.000</td>\n",
       "      <td>0.0</td>\n",
       "      <td>0.9</td>\n",
       "      <td>0.034</td>\n",
       "      <td>-0.0011</td>\n",
       "    </tr>\n",
       "    <tr>\n",
       "      <th>2</th>\n",
       "      <td>165</td>\n",
       "      <td>4</td>\n",
       "      <td>0.14</td>\n",
       "      <td>0.14</td>\n",
       "      <td>0.78</td>\n",
       "      <td>0.4</td>\n",
       "      <td>-11</td>\n",
       "      <td>-9</td>\n",
       "      <td>-0.003</td>\n",
       "      <td>-0.2</td>\n",
       "      <td>...</td>\n",
       "      <td>0.0</td>\n",
       "      <td>0.0</td>\n",
       "      <td>0.0</td>\n",
       "      <td>0.0</td>\n",
       "      <td>0.0</td>\n",
       "      <td>0.000</td>\n",
       "      <td>0.0</td>\n",
       "      <td>1.0</td>\n",
       "      <td>0.034</td>\n",
       "      <td>-0.0012</td>\n",
       "    </tr>\n",
       "    <tr>\n",
       "      <th>3</th>\n",
       "      <td>-113</td>\n",
       "      <td>5</td>\n",
       "      <td>-0.12</td>\n",
       "      <td>0.11</td>\n",
       "      <td>1.06</td>\n",
       "      <td>0.6</td>\n",
       "      <td>-10</td>\n",
       "      <td>-7</td>\n",
       "      <td>-0.008</td>\n",
       "      <td>0.0</td>\n",
       "      <td>...</td>\n",
       "      <td>0.0</td>\n",
       "      <td>0.0</td>\n",
       "      <td>0.0</td>\n",
       "      <td>0.0</td>\n",
       "      <td>0.0</td>\n",
       "      <td>0.000</td>\n",
       "      <td>0.0</td>\n",
       "      <td>0.9</td>\n",
       "      <td>0.033</td>\n",
       "      <td>-0.0011</td>\n",
       "    </tr>\n",
       "    <tr>\n",
       "      <th>4</th>\n",
       "      <td>-411</td>\n",
       "      <td>-21</td>\n",
       "      <td>-0.17</td>\n",
       "      <td>0.07</td>\n",
       "      <td>1.33</td>\n",
       "      <td>-0.6</td>\n",
       "      <td>-11</td>\n",
       "      <td>0</td>\n",
       "      <td>0.002</td>\n",
       "      <td>0.1</td>\n",
       "      <td>...</td>\n",
       "      <td>0.0</td>\n",
       "      <td>0.0</td>\n",
       "      <td>0.0</td>\n",
       "      <td>0.0</td>\n",
       "      <td>0.0</td>\n",
       "      <td>-0.002</td>\n",
       "      <td>0.0</td>\n",
       "      <td>0.9</td>\n",
       "      <td>0.032</td>\n",
       "      <td>-0.0008</td>\n",
       "    </tr>\n",
       "  </tbody>\n",
       "</table>\n",
       "<p>5 rows × 41 columns</p>\n",
       "</div>"
      ],
      "text/plain": [
       "    0   1     2     3     4    5   6   7      8    9   ...   31   32   33  \\\n",
       "0    2 -56 -0.33 -0.09  0.90  0.2 -11  12  0.004 -0.1  ...  0.0  0.0  0.0   \n",
       "1  470 -39  0.02  0.12  0.39 -0.6 -12   8  0.009 -1.6  ...  0.0  0.0  0.0   \n",
       "2  165   4  0.14  0.14  0.78  0.4 -11  -9 -0.003 -0.2  ...  0.0  0.0  0.0   \n",
       "3 -113   5 -0.12  0.11  1.06  0.6 -10  -7 -0.008  0.0  ...  0.0  0.0  0.0   \n",
       "4 -411 -21 -0.17  0.07  1.33 -0.6 -11   0  0.002  0.1  ...  0.0  0.0  0.0   \n",
       "\n",
       "    34   35     36   37   38     39      40  \n",
       "0  0.0  0.0  0.000  0.0  0.9  0.032 -0.0009  \n",
       "1  0.0  0.0  0.000  0.0  0.9  0.034 -0.0011  \n",
       "2  0.0  0.0  0.000  0.0  1.0  0.034 -0.0012  \n",
       "3  0.0  0.0  0.000  0.0  0.9  0.033 -0.0011  \n",
       "4  0.0  0.0 -0.002  0.0  0.9  0.032 -0.0008  \n",
       "\n",
       "[5 rows x 41 columns]"
      ]
     },
     "execution_count": 21,
     "metadata": {},
     "output_type": "execute_result"
    }
   ],
   "source": [
    "import pandas as pd\n",
    "import numpy as np\n",
    "df = pd.read_csv('train.data', header=None)\n",
    "df.head()"
   ]
  },
  {
   "cell_type": "markdown",
   "metadata": {},
   "source": [
    "## Dataset Info"
   ]
  },
  {
   "cell_type": "code",
   "execution_count": 22,
   "metadata": {},
   "outputs": [
    {
     "name": "stdout",
     "output_type": "stream",
     "text": [
      "<class 'pandas.core.frame.DataFrame'>\n",
      "RangeIndex: 7154 entries, 0 to 7153\n",
      "Data columns (total 41 columns):\n",
      " #   Column  Non-Null Count  Dtype  \n",
      "---  ------  --------------  -----  \n",
      " 0   0       7154 non-null   int64  \n",
      " 1   1       7154 non-null   int64  \n",
      " 2   2       7154 non-null   float64\n",
      " 3   3       7154 non-null   float64\n",
      " 4   4       7154 non-null   float64\n",
      " 5   5       7154 non-null   float64\n",
      " 6   6       7154 non-null   int64  \n",
      " 7   7       7154 non-null   int64  \n",
      " 8   8       7154 non-null   float64\n",
      " 9   9       7154 non-null   float64\n",
      " 10  10      7154 non-null   float64\n",
      " 11  11      7154 non-null   float64\n",
      " 12  12      7154 non-null   float64\n",
      " 13  13      7154 non-null   float64\n",
      " 14  14      7154 non-null   float64\n",
      " 15  15      7154 non-null   float64\n",
      " 16  16      7154 non-null   float64\n",
      " 17  17      7154 non-null   float64\n",
      " 18  18      7154 non-null   float64\n",
      " 19  19      7154 non-null   float64\n",
      " 20  20      7154 non-null   float64\n",
      " 21  21      7154 non-null   float64\n",
      " 22  22      7154 non-null   float64\n",
      " 23  23      7154 non-null   float64\n",
      " 24  24      7154 non-null   float64\n",
      " 25  25      7154 non-null   float64\n",
      " 26  26      7154 non-null   float64\n",
      " 27  27      7154 non-null   float64\n",
      " 28  28      7154 non-null   float64\n",
      " 29  29      7154 non-null   float64\n",
      " 30  30      7154 non-null   float64\n",
      " 31  31      7154 non-null   float64\n",
      " 32  32      7154 non-null   float64\n",
      " 33  33      7154 non-null   float64\n",
      " 34  34      7154 non-null   float64\n",
      " 35  35      7154 non-null   float64\n",
      " 36  36      7154 non-null   float64\n",
      " 37  37      7154 non-null   float64\n",
      " 38  38      7154 non-null   float64\n",
      " 39  39      7154 non-null   float64\n",
      " 40  40      7154 non-null   float64\n",
      "dtypes: float64(37), int64(4)\n",
      "memory usage: 2.2 MB\n"
     ]
    }
   ],
   "source": [
    "df.info()"
   ]
  },
  {
   "cell_type": "markdown",
   "metadata": {},
   "source": [
    "## Data process"
   ]
  },
  {
   "cell_type": "code",
   "execution_count": 23,
   "metadata": {},
   "outputs": [],
   "source": [
    "array = np.array(df)\n",
    "n = array.shape[0]\n",
    "np.random.seed(2)\n",
    "train_index = set(np.random.choice(n, int(n/4*3), replace=False))\n",
    "test_index = set(range(n)) - train_index\n",
    "(train, test) = (array[np.array(list(train_index)), :],\n",
    "                 array[np.array(list(test_index)), :])\n",
    "(X_train, y_train) = (train[:, :-1], train[:, -1])\n",
    "(X_test, y_test) = (test[:, :-1], test[:, -1])"
   ]
  },
  {
   "cell_type": "markdown",
   "metadata": {},
   "source": [
    "# model"
   ]
  },
  {
   "cell_type": "code",
   "execution_count": 31,
   "metadata": {},
   "outputs": [],
   "source": [
    "from collections import deque\n",
    "\n",
    "\n",
    "class Regression_Tree:\n",
    "\n",
    "    class Node:\n",
    "        def __init__(self, aggregation, weight, depth):\n",
    "            self.left = None\n",
    "            self.right = None\n",
    "            self.feature = None\n",
    "            self.value = None\n",
    "            self.aggregation = aggregation\n",
    "            self.weight = weight\n",
    "            self.depth = depth\n",
    "\n",
    "    def __init__(self, Lambda=1.0, Gamma=0.0, plot=True):\n",
    "        self.root = None\n",
    "        self.Lambda = Lambda\n",
    "        self.Gamma = Gamma\n",
    "        self.plot = plot\n",
    "\n",
    "    def grad(self, y, y_last):\n",
    "        self.g = - 2 * (y - y_last)\n",
    "        self.h = 2 * np.ones(y.shape)\n",
    "\n",
    "    def obj(self, G, H):\n",
    "        return -0.5 * (G ** 2) / (H + self.Lambda) + self.Gamma\n",
    "\n",
    "    def weight(self, aggregation):\n",
    "        return - np.sum(self.g[aggregation]) / (np.sum(self.h[aggregation]) + self.Lambda)\n",
    "\n",
    "    def fit(self, X, y, y_last=0, max_depth=None, min_samples_split=None):\n",
    "        self.grad(y, y_last)\n",
    "        root_aggregation = list(range(X.shape[0]))\n",
    "        self.root = self.Node(\n",
    "            root_aggregation, self.weight(root_aggregation), 0)\n",
    "        node_stack = deque([self.root])\n",
    "        score = []\n",
    "        while len(node_stack) > 0:\n",
    "            cur_node = node_stack.popleft()\n",
    "            if max_depth is not None and cur_node.depth >= max_depth:\n",
    "                continue\n",
    "            if min_samples_split is not None and len(cur_node.aggregation) < min_samples_split:\n",
    "                continue\n",
    "            score.append(self.MSE(X, y))\n",
    "            Gsum = np.sum(self.g[cur_node.aggregation])\n",
    "            Hsum = np.sum(self.h[cur_node.aggregation])\n",
    "            Obj1 = self.obj(Gsum, Hsum)\n",
    "            Obj2_min = np.inf\n",
    "            feature_min = None\n",
    "            pos_min = None\n",
    "            for i in range(X.shape[1]):\n",
    "                Gl = 0\n",
    "                Hl = 0\n",
    "                sorted_list = sorted(cur_node.aggregation,\n",
    "                                     key=lambda x: X[x, i])\n",
    "                j = 0\n",
    "                while j < len(sorted_list):\n",
    "                    cur_value = X[sorted_list[j], i]\n",
    "                    while j < len(sorted_list) and X[sorted_list[j], i] == cur_value:\n",
    "                        Gl += self.g[sorted_list[j]]\n",
    "                        Hl += self.h[sorted_list[j]]\n",
    "                        j += 1\n",
    "                    Obj2 = self.obj(Gl, Hl) + self.obj(Gsum - Gl, Hsum - Hl)\n",
    "                    if Obj2 < Obj2_min:\n",
    "                        Obj2_min = Obj2\n",
    "                        feature_min = i\n",
    "                        pos_min = j\n",
    "            if Obj1 - Obj2_min > 0 and pos_min != len(cur_node.aggregation):\n",
    "                sorted_list = sorted(cur_node.aggregation,\n",
    "                                     key=lambda x: X[x, feature_min])\n",
    "                aggregationl = sorted_list[:pos_min]\n",
    "                aggregationr = sorted_list[pos_min+1:]\n",
    "                cur_node.left = self.Node(\n",
    "                    aggregationl, self.weight(aggregationl), cur_node.depth + 1)\n",
    "                cur_node.right = self.Node(\n",
    "                    aggregationr, self.weight(aggregationr), cur_node.depth + 1)\n",
    "                cur_node.feature = feature_min\n",
    "                cur_node.value = X[sorted_list[pos_min-1], feature_min]\n",
    "                node_stack.append(cur_node.left)\n",
    "                node_stack.append(cur_node.right)\n",
    "        if self.plot:\n",
    "            from matplotlib import pyplot as plt\n",
    "            plt.title('MSE curve of training')\n",
    "            plt.xlabel('iteration')\n",
    "            plt.ylabel('MSE')\n",
    "            plt.plot(np.arange(1, len(score) + 1), np.array(score).flatten())\n",
    "            plt.show()\n",
    "\n",
    "    def predict(self, X):\n",
    "        result = np.zeros(X.shape[0])\n",
    "        for i in range(X.shape[0]):\n",
    "            cur_node = self.root\n",
    "            while cur_node.left is not None:\n",
    "                if X[i, cur_node.feature] <= cur_node.value:\n",
    "                    cur_node = cur_node.left\n",
    "                else:\n",
    "                    cur_node = cur_node.right\n",
    "            result[i] = cur_node.weight\n",
    "        return result\n",
    "\n",
    "    def MSE(self, X, y):\n",
    "        return np.sum((self.predict(X) - y) ** 2) / X.shape[0]\n",
    "\n",
    "    def R2(self, X, y):\n",
    "        return 1 - self.MSE(X, y) / np.var(y)\n",
    "\n",
    "    def RMSE(self, X, y):\n",
    "        return self.MSE(X, y) ** 0.5\n"
   ]
  },
  {
   "cell_type": "code",
   "execution_count": 32,
   "metadata": {},
   "outputs": [],
   "source": [
    "class XGBoost:\n",
    "\n",
    "    def __init__(self, alpha = 0.1, plot=True):\n",
    "        self.forest = []\n",
    "        self.alpha = alpha\n",
    "        self.plot = plot\n",
    "\n",
    "    def fit(self, X, y, X_test = None, y_test = None, M = 50, max_depth = 5):\n",
    "        score = []\n",
    "        if X_test is not None and y_test is not None:\n",
    "            score_test = []\n",
    "        cur_y = np.zeros(y.shape)\n",
    "        for i in range(M):\n",
    "            tree = Regression_Tree(plot=False)\n",
    "            tree.fit(X, y, cur_y, max_depth=max_depth)\n",
    "            self.forest.append(tree)\n",
    "            cur_y += tree.predict(X) * self.alpha\n",
    "            score.append(self.MSE(X, y))\n",
    "            if X_test is not None and y_test is not None:\n",
    "                score_test.append(self.MSE(X_test, y_test))\n",
    "        if self.plot:\n",
    "            from matplotlib import pyplot as plt\n",
    "            plt.title('MSE curve of training')\n",
    "            plt.xlabel('iteration')\n",
    "            plt.ylabel('MSE')\n",
    "            plt.plot(np.arange(1, len(score) + 1), np.array(score).flatten(), label='train')\n",
    "            if X_test is not None and y_test is not None:\n",
    "                plt.plot(np.arange(1, len(score_test) + 1), np.array(score_test).flatten(), label='test')\n",
    "            plt.legend()\n",
    "            plt.show()\n",
    "\n",
    "    def predict(self, X):\n",
    "        result = 0\n",
    "        for tree in self.forest:\n",
    "            result += tree.predict(X) * self.alpha\n",
    "        return result\n",
    "\n",
    "    def MSE(self, X, y):\n",
    "        return np.sum((self.predict(X) - y) ** 2) / X.shape[0]\n",
    "\n",
    "    def R2(self, X, y):\n",
    "        return 1 - self.MSE(X, y) / np.var(y)\n",
    "\n",
    "    def RMSE(self, X, y):\n",
    "        return self.MSE(X, y) ** 0.5\n"
   ]
  },
  {
   "cell_type": "markdown",
   "metadata": {},
   "source": [
    "## Train"
   ]
  },
  {
   "cell_type": "code",
   "execution_count": 33,
   "metadata": {},
   "outputs": [
    {
     "data": {
      "image/png": "[encoded data removed]",
      "text/plain": [
       "<Figure size 640x480 with 1 Axes>"
      ]
     },
     "metadata": {},
     "output_type": "display_data"
    },
    {
     "name": "stdout",
     "output_type": "stream",
     "text": [
      "RMSE:1.9352e-04\n",
      "R2:0.7862\n"
     ]
    }
   ],
   "source": [
    "model = Regression_Tree(Lambda=0.1)\n",
    "model.fit(X_train, y_train, max_depth=7, min_samples_split=50)\n",
    "print(\"RMSE:{:.4e}\".format(model.RMSE(X_test, y_test)))\n",
    "print(\"R2:{:.4f}\".format(model.R2(X_test, y_test)))"
   ]
  },
  {
   "cell_type": "code",
   "execution_count": 34,
   "metadata": {},
   "outputs": [
    {
     "data": {
      "image/png": "[encoded data removed]",
      "text/plain": [
       "<Figure size 640x480 with 1 Axes>"
      ]
     },
     "metadata": {},
     "output_type": "display_data"
    },
    {
     "name": "stdout",
     "output_type": "stream",
     "text": [
      "RMSE:1.6317e-04\n",
      "R2:0.8480\n"
     ]
    }
   ],
   "source": [
    "model = XGBoost(alpha=0.1)\n",
    "model.fit(X_train, y_train, max_depth = 5)\n",
    "print(\"RMSE:{:.4e}\".format(model.RMSE(X_test, y_test)))\n",
    "print(\"R2:{:.4f}\".format(model.R2(X_test, y_test)))"
   ]
  },
  {
   "cell_type": "markdown",
   "metadata": {},
   "source": [
    "## Reference"
   ]
  },
  {
   "cell_type": "code",
   "execution_count": 35,
   "metadata": {},
   "outputs": [
    {
     "name": "stdout",
     "output_type": "stream",
     "text": [
      "RMSE:2.4090e-04\n",
      "R2:0.6687\n"
     ]
    }
   ],
   "source": [
    "from sklearn.tree import DecisionTreeRegressor  # 回归树\n",
    "dtg = DecisionTreeRegressor(random_state=0)\n",
    "dtg.fit(X_train, y_train)\n",
    "print(\"RMSE:{:.4e}\".format(np.mean((dtg.predict(X_test) - y_test) ** 2) ** 0.5))\n",
    "print(\"R2:{:.4f}\".format(dtg.score(X_test, y_test)))"
   ]
  },
  {
   "cell_type": "code",
   "execution_count": 36,
   "metadata": {},
   "outputs": [
    {
     "name": "stdout",
     "output_type": "stream",
     "text": [
      "RMSE:1.6317e-04\n",
      "R2:0.8480\n"
     ]
    }
   ],
   "source": [
    "from sklearn.ensemble import GradientBoostingRegressor  # GBDT\n",
    "gbdt = GradientBoostingRegressor(random_state=0)\n",
    "gbdt.fit(X_train, y_train)\n",
    "print(\"RMSE:{:.4e}\".format(np.mean((gbdt.predict(X_test) - y_test) ** 2) ** 0.5))\n",
    "print(\"R2:{:.4f}\".format(gbdt.score(X_test, y_test)))"
   ]
  }
 ],
 "metadata": {
  "kernelspec": {
   "display_name": "Python 3.9.13 ('base')",
   "language": "python",
   "name": "python3"
  },
  "language_info": {
   "codemirror_mode": {
    "name": "ipython",
    "version": 3
   },
   "file_extension": ".py",
   "mimetype": "text/x-python",
   "name": "python",
   "nbconvert_exporter": "python",
   "pygments_lexer": "ipython3",
   "version": "3.9.15 (main, Nov  4 2022, 16:35:55) [MSC v.1916 64 bit (AMD64)]"
  },
  "vscode": {
   "interpreter": {
    "hash": "ad2bdc8ecc057115af97d19610ffacc2b4e99fae6737bb82f5d7fb13d2f2c186"
   }
  }
 },
 "nbformat": 4,
 "nbformat_minor": 2
}
