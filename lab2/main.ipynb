{
 "cells": [
  {
   "cell_type": "code",
   "execution_count": 1,
   "metadata": {},
   "outputs": [],
   "source": [
    "import numpy as np\n",
    "import random"
   ]
  },
  {
   "cell_type": "markdown",
   "metadata": {},
   "source": [
    "# generate data"
   ]
  },
  {
   "cell_type": "code",
   "execution_count": 2,
   "metadata": {},
   "outputs": [],
   "source": [
    "# In real world, you cannot learn how the data was generated. So do not rely on this function when coding your lab.\n",
    "def generate_data(dim, num):\n",
    "    x = np.random.normal(0, 10, [num, dim])\n",
    "    coef = np.random.uniform(-1, 1, [dim, 1])\n",
    "    pred = np.dot(x, coef)\n",
    "    pred_n = (pred - np.mean(pred)) / np.sqrt(np.var(pred))\n",
    "    label = np.sign(pred_n)\n",
    "    mislabel_value = np.random.uniform(0, 1, num)\n",
    "    mislabel = 0\n",
    "    for i in range(num):\n",
    "        if np.abs(pred_n[i]) < 1 and mislabel_value[i] > 0.9 + 0.1 * np.abs(pred_n[i]):\n",
    "            label[i] *= -1\n",
    "            mislabel += 1\n",
    "    return x, label, mislabel/num"
   ]
  },
  {
   "cell_type": "code",
   "execution_count": 3,
   "metadata": {},
   "outputs": [],
   "source": [
    "# example\n",
    "np.random.seed(0)\n",
    "x, y, mr = generate_data(5, 100)\n"
   ]
  },
  {
   "cell_type": "code",
   "execution_count": 4,
   "metadata": {},
   "outputs": [
    {
     "data": {
      "text/plain": [
       "(array([[ 17.64052346,   4.00157208,   9.78737984,  22.40893199,\n",
       "          18.6755799 ],\n",
       "        [ -9.7727788 ,   9.50088418,  -1.51357208,  -1.03218852,\n",
       "           4.10598502],\n",
       "        [  1.44043571,  14.54273507,   7.61037725,   1.21675016,\n",
       "           4.43863233],\n",
       "        [  3.33674327,  14.94079073,  -2.05158264,   3.13067702,\n",
       "          -8.54095739],\n",
       "        [-25.52989816,   6.53618595,   8.64436199,  -7.4216502 ,\n",
       "          22.69754624]]),\n",
       " array([[ 1.],\n",
       "        [ 1.],\n",
       "        [ 1.],\n",
       "        [ 1.],\n",
       "        [-1.]]))"
      ]
     },
     "execution_count": 4,
     "metadata": {},
     "output_type": "execute_result"
    }
   ],
   "source": [
    "x[:5], y[:5]"
   ]
  },
  {
   "cell_type": "markdown",
   "metadata": {},
   "source": [
    "# write your model class"
   ]
  },
  {
   "cell_type": "code",
   "execution_count": 5,
   "metadata": {},
   "outputs": [],
   "source": [
    "# you can do anything necessary about the model\n",
    "class SVM1:\n",
    "    def __init__(self, dim, C=1, plot=True):\n",
    "        \"\"\"\n",
    "        You can add some other parameters, which I think is not necessary\n",
    "        \"\"\"\n",
    "        self.dim = dim\n",
    "        self.C = C # 优化目标中损失函数前面的参数，设置太大会导致模型震荡难以收敛\n",
    "        self.plot = plot # 是否输出图像\n",
    "\n",
    "    def grad(self, X, y):\n",
    "        temp = 1 - (X @ self.w) * y\n",
    "        # 在max内部的值大于0时，才计算对应项的导数\n",
    "        flag = np.array(np.frompyfunc(lambda x: 1.0 if x >\n",
    "                        0 else 0.0, 1, 1)(temp), np.float64)\n",
    "        return self.w - (self.C * (y.T @ (flag * X))).T\n",
    "\n",
    "    def loss(self, X, y):\n",
    "        temp = 1 - (X @ self.w) * y\n",
    "        flag = np.array(np.frompyfunc(lambda x: 1.0 if x >\n",
    "                        0 else 0.0, 1, 1)(temp), np.float64)\n",
    "        return (0.5 * (self.w.T @ self.w) + self.C * np.sum((flag * temp).flatten()))[0][0]\n",
    "\n",
    "    def iteration(self, X, y):\n",
    "        # 步长较大时会反复震荡，因此将步长设为0.00001\n",
    "        return 0.00001 * self.grad(X, y)\n",
    "\n",
    "    def fit(self, X, y, tol=1e-2, max_iter=1e2):\n",
    "        \"\"\"\n",
    "        Fit the coefficients via your methods\n",
    "        \"\"\"\n",
    "        self.w = np.zeros((self.dim, 1))\n",
    "        loss_table = []\n",
    "        before = after = 0\n",
    "        iter = 0\n",
    "        # 通过前后两次迭代的损失函数值的差值来判断是否收敛\n",
    "        while iter == 0 or (iter < max_iter and np.absolute(before - after) > tol):\n",
    "            before = after\n",
    "            self.w -= self.iteration(X, y)\n",
    "            after = self.loss(X, y)\n",
    "            iter += 1\n",
    "            loss_table.append(after)\n",
    "        if self.plot:\n",
    "            from matplotlib import pyplot as plt\n",
    "            plt.title('loss curve of training')\n",
    "            plt.xlabel('iteration')\n",
    "            plt.ylabel('loss')\n",
    "            plt.plot(np.arange(1, iter + 1), np.array(loss_table).flatten())\n",
    "            plt.show()\n",
    "\n",
    "    def predict(self, X):\n",
    "        \"\"\"\n",
    "        Use the trained model to generate prediction probabilities on a new\n",
    "        collection of data points.\n",
    "        \"\"\"\n",
    "        # 计算预测值，并映射到±1\n",
    "        return np.array(np.frompyfunc(lambda x: 1.0 if x > 0 else -1.0, 1, 1)(X @ self.w), np.float64)\n",
    "\n",
    "    def score(self, X, y):\n",
    "        result = self.predict(X)\n",
    "        delta = np.array(np.frompyfunc(lambda x: 1.0 if x ==\n",
    "                                       0 else 0.0, 1, 1)(result-y), np.float64)\n",
    "        num = np.sum(delta)\n",
    "        return num / delta.shape[0]\n"
   ]
  },
  {
   "cell_type": "code",
   "execution_count": 6,
   "metadata": {},
   "outputs": [],
   "source": [
    "# you can do anything necessary about the model\n",
    "\n",
    "class SVM2:\n",
    "    def __init__(self, dim, C=100, plot=True, fit_intercept=False):\n",
    "        \"\"\"\n",
    "        You can add some other parameters, which I think is not necessary\n",
    "        \"\"\"\n",
    "        self.dim = dim\n",
    "        self.C = C # 优化目标中损失函数前面的参数\n",
    "        self.plot = plot # 是否输出图像\n",
    "        self.w_max = 0 # 用于记录最大的w\n",
    "        self.score_max = 0 # 用于记录最大的score\n",
    "        self.b = 0\n",
    "        self.fit_intercept = fit_intercept # 是否需要计算截距\n",
    "\n",
    "    def update(self, X, y):\n",
    "        self.w = np.sum(y * self.alpha * X, axis=0).reshape(self.dim, 1)\n",
    "        self.E = X @ self.w - y # 计算预测值与理论值的误差，用于计算alpha\n",
    "        if self.fit_intercept:\n",
    "            self.E += self.b\n",
    "        self.r = self.E * y # 计算误差与标签的乘积，用于计算alpha，在此处全部计算，而不是在计算alpha时再计算，是为了减少计算量\n",
    "\n",
    "    def select(self, X, y, j):\n",
    "        self.delta = self.E - self.E[j][0] # 计算误差的差值\n",
    "        self.delta = np.maximum(self.delta, - self.delta) # 计算差值的绝对值\n",
    "        return np.argmax(self.delta, axis=0)[0] # 返回最大差值对应的下标\n",
    "\n",
    "    def error(self, X, y):\n",
    "        # 用训练集上的错误率计算代替计算损失函数，计算损失函数所需计算量较大，而错误率可以用每次迭代的结果self.w来计算\n",
    "        result = self.score(X, y)\n",
    "        # 在迭代时发现会过拟合，因此在迭代时记录最大的score，并记录当时的self.w\n",
    "        if result > self.score_max:\n",
    "            self.score_max = result\n",
    "            self.w_max = self.w\n",
    "        return result\n",
    "\n",
    "    def takestep(self, X, y, i, j, tol=1e-3):\n",
    "        if i == j:\n",
    "            return False\n",
    "        # 计算alpha的上下界\n",
    "        if y[i][0] != y[j][0]:\n",
    "            L = max(0, self.alpha[j][0] - self.alpha[i][0])\n",
    "            H = min(self.C, self.C + self.alpha[j][0] - self.alpha[i][0])\n",
    "        else:\n",
    "            L = max(0, self.alpha[i][0] + self.alpha[j][0] - self.C)\n",
    "            H = min(self.C, self.alpha[i][0] + self.alpha[j][0])\n",
    "        if L == H:\n",
    "            return False\n",
    "        newj = self.alpha[j][0] + y[j][0] * (self.E[i][0] - self.E[j][0]) / (\n",
    "            X[i] @ X[i].T + X[j] @ X[j].T - 2 * (X[i] @ X[j].T))\n",
    "        if newj < L:\n",
    "            newj = L\n",
    "        if newj > H:\n",
    "            newj = H\n",
    "        # 当alpha的变化量小于阈值时，不更新，加快迭代速度\n",
    "        if abs(newj - self.alpha[j][0]) < tol:\n",
    "            return False\n",
    "        newi = self.alpha[i][0] + y[i][0] * \\\n",
    "            y[j][0] * (self.alpha[j][0] - newj)\n",
    "        if self.fit_intercept:\n",
    "            newbi = -self.E[i][0] - y[i][0] * (newi - self.alpha[i][0]) * (X[i] @ X[i].T) - y[j][0] * (\n",
    "                newj - self.alpha[j][0]) * (X[i] @ X[j].T) + self.b\n",
    "            newbj = -self.E[j][0] - y[i][0] * (newi - self.alpha[i][0]) * (X[i] @ X[j].T) - y[j][0] * (\n",
    "                newj - self.alpha[j][0]) * (X[j] @ X[j].T) + self.b\n",
    "            self.b = (newbi + newbj) / 2\n",
    "        (self.alpha[i][0], self.alpha[j][0]) = (newi, newj)\n",
    "        self.update(X, y)\n",
    "        return True\n",
    "\n",
    "    def examine(self, X, y, j, tol=1e-1):\n",
    "        # 当alpha[j]满足KKT条件时，不更新，在这里引入阈值tol，允许alpha[j]与KKT条件不完全符合，以加快迭代速度\n",
    "        if (self.r[j] < -tol and self.alpha[j] < self.C) or (self.r[j] > tol and self.alpha[j] > 0):\n",
    "            if self.alpha[j] > 1:\n",
    "                # 选择与alpha[j]误差最大的alpha[i]进行更新\n",
    "                i = self.select(X, y, j)\n",
    "                if self.takestep(X, y, i, j):\n",
    "                    return 1\n",
    "            temp = list(range(y.shape[0]))\n",
    "            random.shuffle(temp)\n",
    "            # 前面更新失败时选择的alpha[i]可能不是最优的，因此随机选择在边界上的alpha[i]进行更新\n",
    "            for i in temp:\n",
    "                if self.alpha[i] != 0 or self.alpha[i] != self.C:\n",
    "                    if self.takestep(X, y, i, j):\n",
    "                        return 1\n",
    "            random.shuffle(temp)\n",
    "            # 仍然失败时，随机选择alpha[i]进行更新\n",
    "            for i in temp:\n",
    "                if self.takestep(X, y, i, j):\n",
    "                    return 1\n",
    "        return 0\n",
    "\n",
    "    def fit(self, X, y, max_iter=1e3):\n",
    "        \"\"\"\n",
    "        Fit the coefficients via your methods\n",
    "        \"\"\"\n",
    "        random.seed(0)\n",
    "        self.alpha = np.zeros(y.shape)\n",
    "        self.update(X, y)\n",
    "        error_table = []\n",
    "        iter = 0\n",
    "        numChanged = 0\n",
    "        examineAll = 1\n",
    "        # 没有可更新的alpha时，迭代结束\n",
    "        while iter < max_iter and (numChanged > 0 or examineAll == 1):\n",
    "            numChanged = 0\n",
    "            if examineAll == 1:\n",
    "                # 遍历所有样本，对每个样本进行检查\n",
    "                for j in range(y.shape[0]):\n",
    "                    numChanged += self.examine(X, y, j)\n",
    "                    iter += 1\n",
    "                    error_table.append(self.error(X, y))\n",
    "                    if iter == max_iter:\n",
    "                        break\n",
    "            else:\n",
    "                # 遍历所有在边界上的样本，对每个样本进行检查\n",
    "                for j in range(y.shape[0]):\n",
    "                    if self.alpha[j] != 0 or self.alpha[j] != self.C:\n",
    "                        numChanged += self.examine(X, y, j)\n",
    "                        iter += 1\n",
    "                        error_table.append(self.error(X, y))\n",
    "                        if iter == max_iter:\n",
    "                            break\n",
    "            if examineAll == 1:\n",
    "                examineAll = 0\n",
    "            elif numChanged == 0:\n",
    "                examineAll = 1\n",
    "        self.w = self.w_max\n",
    "        if self.plot:\n",
    "            from matplotlib import pyplot as plt\n",
    "            plt.title('error ratio of training')\n",
    "            plt.xlabel('iteration')\n",
    "            plt.ylabel('error ratio')\n",
    "            plt.plot(np.arange(1, iter + 1), np.array(error_table).flatten())\n",
    "            plt.show()\n",
    "\n",
    "    def predict(self, X):\n",
    "        \"\"\"\n",
    "        Use the trained model to generate prediction probabilities on a new\n",
    "        collection of data points.\n",
    "        \"\"\"\n",
    "        # 计算预测值，并映射到±1\n",
    "        return np.array(np.frompyfunc(lambda x: 1.0 if x > 0 else -1.0, 1, 1)(X @ self.w + (self.b if self.fit_intercept else 0)), np.float64)\n",
    "\n",
    "    def score(self, X, y):\n",
    "        result = self.predict(X)\n",
    "        delta = np.array(np.frompyfunc(lambda x: 1.0 if x ==\n",
    "                                       0 else 0.0, 1, 1)(result-y), np.float64)\n",
    "        num = np.sum(delta)\n",
    "        return num / delta.shape[0]\n"
   ]
  },
  {
   "cell_type": "markdown",
   "metadata": {},
   "source": [
    "# construct and train your models"
   ]
  },
  {
   "cell_type": "code",
   "execution_count": 14,
   "metadata": {},
   "outputs": [
    {
     "name": "stdout",
     "output_type": "stream",
     "text": [
      "mislabel:0.0349\n"
     ]
    },
    {
     "data": {
      "image/png": "[encoded data removed]",
      "text/plain": [
       "<Figure size 640x480 with 1 Axes>"
      ]
     },
     "metadata": {},
     "output_type": "display_data"
    },
    {
     "name": "stdout",
     "output_type": "stream",
     "text": [
      "accuracy:0.9592\n"
     ]
    }
   ],
   "source": [
    "# generate data\n",
    "dim, num = (20, 10000)\n",
    "np.random.seed(0)\n",
    "X_data, y_data, mislabel = generate_data(dim, num)\n",
    "print('mislabel:{}'.format(mislabel))\n",
    "\n",
    "# split data\n",
    "# 训练集：测试集 = 3:1\n",
    "train_index = set(np.random.choice(num, int(num / 4 * 3), replace=False))\n",
    "test_index = set(range(num)) - train_index\n",
    "(train, test) = (np.array(list(train_index)), np.array(list(test_index)))\n",
    "(X_train, y_train) = (X_data[train], y_data[train])\n",
    "(X_test, y_test) = (X_data[test], y_data[test])\n",
    "\n",
    "# constrcut model and train (remember record time)\n",
    "model1 = SVM1(dim)\n",
    "model1.fit(X_train, y_train)\n",
    "print('accuracy:{:.4f}'.format(model1.score(X_test, y_test)))\n"
   ]
  },
  {
   "cell_type": "code",
   "execution_count": 8,
   "metadata": {},
   "outputs": [
    {
     "name": "stdout",
     "output_type": "stream",
     "text": [
      "mislabel:0.0349\n"
     ]
    },
    {
     "data": {
      "image/png": "[encoded data removed]",
      "text/plain": [
       "<Figure size 640x480 with 1 Axes>"
      ]
     },
     "metadata": {},
     "output_type": "display_data"
    },
    {
     "name": "stdout",
     "output_type": "stream",
     "text": [
      "accuracy:0.9216\n"
     ]
    }
   ],
   "source": [
    "# generate data\n",
    "dim, num = (20, 10000)\n",
    "np.random.seed(0)\n",
    "X_data, y_data, mislabel = generate_data(dim, num)\n",
    "print('mislabel:{}'.format(mislabel))\n",
    "\n",
    "# split data\n",
    "# 训练集：测试集 = 3:1\n",
    "train_index = set(np.random.choice(num, int(num / 4 * 3), replace=False))\n",
    "test_index = set(range(num)) - train_index\n",
    "(train, test) = (np.array(list(train_index)), np.array(list(test_index)))\n",
    "(X_train, y_train) = (X_data[train], y_data[train])\n",
    "(X_test, y_test) = (X_data[test], y_data[test])\n",
    "\n",
    "# constrcut model and train (remember record time)\n",
    "model1 = SVM2(dim)\n",
    "model1.fit(X_train, y_train)\n",
    "print('accuracy:{:.4f}'.format(model1.score(X_test, y_test)))\n"
   ]
  },
  {
   "cell_type": "markdown",
   "metadata": {},
   "source": [
    "# predict and compare your results"
   ]
  },
  {
   "cell_type": "code",
   "execution_count": 9,
   "metadata": {},
   "outputs": [
    {
     "name": "stdout",
     "output_type": "stream",
     "text": [
      "mislabel:0.0349\n",
      "accuracy:0.9588\n"
     ]
    }
   ],
   "source": [
    "# sklearn (20维 10000样本数据集)\n",
    "from sklearn.svm import LinearSVC\n",
    "\n",
    "# generate data\n",
    "dim, num = (20, 10000)\n",
    "np.random.seed(0)\n",
    "X_data, y_data, mislabel = generate_data(dim, num)\n",
    "print('mislabel:{}'.format(mislabel))\n",
    "\n",
    "# split data\n",
    "train_index = set(np.random.choice(num, int(num / 4 * 3), replace=False))\n",
    "test_index = set(range(num)) - train_index\n",
    "(train, test) = (np.array(list(train_index)), np.array(list(test_index)))\n",
    "(X_train, y_train) = (X_data[train], y_data[train])\n",
    "(X_test, y_test) = (X_data[test], y_data[test])\n",
    "\n",
    "# constrcut model and train (remember record time)\n",
    "modelSVM = LinearSVC(fit_intercept=0, dual=False)\n",
    "modelSVM.fit(X_train, y_train.flatten())\n",
    "print('accuracy:{:.4f}'.format(modelSVM.score(X_test, y_test)))\n"
   ]
  },
  {
   "cell_type": "code",
   "execution_count": 10,
   "metadata": {},
   "outputs": [
    {
     "name": "stdout",
     "output_type": "stream",
     "text": [
      "mislabel:0.0349\n",
      "sklearn accuracy:0.9592\n",
      "model1 accuracy:0.9590\n",
      "model2 accuracy:0.9216\n"
     ]
    }
   ],
   "source": [
    "# 四折交叉验证\n",
    "from sklearn.svm import LinearSVC\n",
    "\n",
    "dim, num = (20, 10000)\n",
    "np.random.seed(0)\n",
    "X_data, y_data, mislabel = generate_data(dim, num)\n",
    "data = np.c_[X_data, y_data]\n",
    "print('mislabel:{}'.format(mislabel))\n",
    "\n",
    "# 正负两类样本拆分\n",
    "positive = data[(y_data == 1.0).flatten(), :]\n",
    "negative = data[(~(y_data == 1.0)).flatten(), :]\n",
    "pn = positive.shape[0]\n",
    "nn = negative.shape[0]\n",
    "modelSVM_acc = []\n",
    "model1_acc = []\n",
    "model2_acc = []\n",
    "modelSVM = LinearSVC(fit_intercept=0, dual=False)\n",
    "model1 = SVM1(dim, plot=False)\n",
    "model2 = SVM2(dim, plot=False)\n",
    "for i in range(4):\n",
    "    # 样本打乱\n",
    "    np.random.shuffle(positive)\n",
    "    np.random.shuffle(negative)\n",
    "    for i in range(4):\n",
    "        test_index_p = set(range(i * int(pn / 4), (i + 1) * int(pn / 4)))\n",
    "        train_index_p = set(range(pn)) - test_index_p\n",
    "        (train_p, test_p) = (positive[np.array(\n",
    "            list(train_index_p)), :], positive[np.array(list(test_index_p)), :])\n",
    "        test_index_n = set(range(i * int(nn / 4), (i + 1) * int(nn / 4)))\n",
    "        train_index_n = set(range(nn)) - test_index_n\n",
    "        (train_n, test_n) = (negative[np.array(\n",
    "            list(train_index_n)), :], negative[np.array(list(test_index_n)), :])\n",
    "        (train, test) = (np.r_[train_p, train_n], np.r_[test_p, test_n])\n",
    "        (X_train, y_train) = (train[:, :-1], train[:, -1:])\n",
    "        (X_test, y_test) = (test[:, :-1], test[:, -1:])\n",
    "        modelSVM.fit(X_train, y_train.flatten())\n",
    "        model1.fit(X_train, y_train)\n",
    "        model2.fit(X_train, y_train)\n",
    "        modelSVM_acc.append(modelSVM.score(X_test, y_test.flatten()))\n",
    "        model1_acc.append(model1.score(X_test, y_test))\n",
    "        model2_acc.append(model2.score(X_test, y_test))\n",
    "print('sklearn accuracy:{:.4f}'.format(sum(modelSVM_acc) / len(modelSVM_acc)))\n",
    "print('model1 accuracy:{:.4f}'.format(sum(model1_acc) / len(model1_acc)))\n",
    "print('model2 accuracy:{:.4f}'.format(sum(model2_acc)/len(model2_acc)))\n"
   ]
  }
 ],
 "metadata": {
  "kernelspec": {
   "display_name": "Python 3.9.13 ('ml')",
   "language": "python",
   "name": "python3"
  },
  "language_info": {
   "codemirror_mode": {
    "name": "ipython",
    "version": 3
   },
   "file_extension": ".py",
   "mimetype": "text/x-python",
   "name": "python",
   "nbconvert_exporter": "python",
   "pygments_lexer": "ipython3",
   "version": "3.9.13 (main, Aug 25 2022, 23:51:50) [MSC v.1916 64 bit (AMD64)]"
  },
  "toc": {
   "base_numbering": 1,
   "nav_menu": {},
   "number_sections": true,
   "sideBar": true,
   "skip_h1_title": false,
   "title_cell": "Table of Contents",
   "title_sidebar": "Contents",
   "toc_cell": false,
   "toc_position": {},
   "toc_section_display": true,
   "toc_window_display": false
  },
  "vscode": {
   "interpreter": {
    "hash": "c58e9361bde7ca617934da376e83056db506761bdc9593ca2087fabac973f609"
   }
  }
 },
 "nbformat": 4,
 "nbformat_minor": 4
}
